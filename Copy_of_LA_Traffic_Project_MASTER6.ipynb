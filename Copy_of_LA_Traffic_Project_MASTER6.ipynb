{
  "nbformat": 4,
  "nbformat_minor": 0,
  "metadata": {
    "kernelspec": {
      "display_name": "Python 3",
      "language": "python",
      "name": "python3"
    },
    "language_info": {
      "codemirror_mode": {
        "name": "ipython",
        "version": 3
      },
      "file_extension": ".py",
      "mimetype": "text/x-python",
      "name": "python",
      "nbconvert_exporter": "python",
      "pygments_lexer": "ipython3",
      "version": "3.7.3"
    },
    "colab": {
      "name": "Copy of LA Traffic Project_MASTER5.ipynb",
      "version": "0.3.2",
      "provenance": [],
      "include_colab_link": true
    }
  },
  "cells": [
    {
      "cell_type": "markdown",
      "metadata": {
        "id": "view-in-github",
        "colab_type": "text"
      },
      "source": [
        "<a href=\"https://colab.research.google.com/github/jtfields/IST652/blob/master/Copy_of_LA_Traffic_Project_MASTER6.ipynb\" target=\"_parent\"><img src=\"https://colab.research.google.com/assets/colab-badge.svg\" alt=\"Open In Colab\"/></a>"
      ]
    },
    {
      "cell_type": "markdown",
      "metadata": {
        "id": "QSpU2GW4biK2",
        "colab_type": "text"
      },
      "source": [
        "IST 652\n",
        "Dr. Block\n",
        "Project - LA Traffic\n",
        "Tyler Marsh, Jon Kaplan, John Fields\n",
        "September 4,2019"
      ]
    },
    {
      "cell_type": "markdown",
      "metadata": {
        "id": "NyVb4XMybLdT",
        "colab_type": "text"
      },
      "source": [
        "As the second largest in the United States, Los Angeles has traffic challenges due to a large and growing population and an increase in the number of cars. A better understanding of the factors that contribute to accidents can help government officials, companies, citizens and other interested parties to understand how to make the city safer and more drivable.\n",
        "\n",
        "The goal is to explore the trends and correlations between the data to provide useful information such as the most dangerous intersections, best/worst times of the day for accidents and other useful information."
      ]
    },
    {
      "cell_type": "markdown",
      "metadata": {
        "id": "54bVZGY1bVvY",
        "colab_type": "text"
      },
      "source": [
        "Sources\n",
        "https://www.kaggle.com/joemenifee/traffic-collision-eda\n",
        "\n",
        "Color themes\n",
        "https://seaborn.pydata.org/tutorial/color_palettes.html\n",
        "\n",
        "fonts and searborne themes\n",
        "https://medium.com/@andykashyap/top-5-tricks-to-make-plots-look-better-9f6e687c1e08\n",
        "\n",
        "income source: https://data.lacity.org/dataset/Median-Household-Income-by-Council-Districts/khbi-qsyb"
      ]
    },
    {
      "cell_type": "markdown",
      "metadata": {
        "id": "gq7xFbgQb2Wp",
        "colab_type": "text"
      },
      "source": [
        "Please see the project document in 2U which includes additional information on the introduction, data source, data exploration/cleansing, comparison questions and conclusion."
      ]
    },
    {
      "cell_type": "markdown",
      "metadata": {
        "id": "DI7E7Ym1fqT7",
        "colab_type": "text"
      },
      "source": [
        "LOADING AND CLEANING THE DATA"
      ]
    },
    {
      "cell_type": "code",
      "metadata": {
        "scrolled": true,
        "id": "DwUHZ6ImfqT8",
        "colab_type": "code",
        "outputId": "40b2ff53-7e0f-4a5a-9b3f-d3f58e114638",
        "colab": {
          "base_uri": "https://localhost:8080/",
          "height": 35
        }
      },
      "source": [
        "# INSTANT CLEAN\n",
        "# run this to get cleaned dataset\n",
        "\n",
        "import pandas as pd\n",
        "import numpy as np\n",
        "import ast\n",
        "import plotly\n",
        "import seaborn as sns\n",
        "import matplotlib.pyplot as plt\n",
        "import matplotlib\n",
        "import datetime\n",
        "import calendar\n",
        "#import chart_studio.plotly as py\n",
        "#import plotly.graph_objects as go\n",
        "import plotly.graph_objs as go\n",
        "#from plotly.offline import *\n",
        "import plotly.offline as offline\n",
        "\n",
        "\n",
        "# Theme and styles for visuals\n",
        "matplotlib.rcParams['font.family'] = \"serif\" # font\n",
        "sns.set_context('talk') # visuals outputted for presentation style\n",
        "plt.style.use('ggplot')\n",
        "\n",
        "#Read in the csv with the LA traffic data from 2010-2019\n",
        "la = pd.read_csv('/Users/johnfields/Desktop/MyPythonFiles/Project/los-angeles-traffic-collision-data/traffic-collision-data-from-2010-to-present.csv')\n",
        "\n",
        "# add income and clean\n",
        "income = pd.read_csv(\"//Users/johnfields/Desktop/MyPythonFiles/Project/los-angeles-traffic-collision-data/LAIncomeCouncil.csv\")\n",
        "# Clean income for calculations and make float type\n",
        "income[\"Median Income\"] = income[\"Median Income\"].str.replace(\",\",\"\")\n",
        "income[\"Median Income\"] = income[\"Median Income\"].str.replace(\" \",\"\")\n",
        "income[\"Median Income\"] = income[\"Median Income\"].str.replace('$','')\n",
        "income['Median Income'].astype(float)\n",
        "\n",
        "# merge income into LA dataset using the common column of Council Districts\n",
        "la = la.merge(income, how = 'inner', on = ['Council Districts'])\n",
        "\n",
        "# drop columns not used in project\n",
        "la.drop([\"DR Number\", \n",
        "         \"Area ID\", \n",
        "         \"Crime Code\", \n",
        "         \"Crime Code Description\",\n",
        "         \"Premise Code\",\n",
        "         \"Precinct Boundaries\",\n",
        "         \"Date Reported\", \n",
        "         \"Neighborhood Councils (Certified)\", \n",
        "         \"Census Tracts\", \n",
        "         \"MO Codes\", \n",
        "         \"LA Specific Plans\",\n",
        "        \"Reporting District\"],\n",
        "        axis=1, inplace=True)\n",
        "\n",
        "# drop NAs in dataset\n",
        "la.dropna(inplace=True)\n",
        "\n",
        "# Victim Age needs to be integer\n",
        "la['Victim Age'] = la['Victim Age'].astype(int)\n",
        "\n",
        "# Zip Codes needs to be string\n",
        "la['Zip Codes'] = la['Zip Codes'].astype(int).astype(str)\n",
        "\n",
        "# Median Income needs to be float\n",
        "la['Median Income'] = la['Median Income'].astype(float)\n",
        "\n",
        "# Council District needs to be integer\n",
        "la['Council Districts'] = la['Council Districts'].astype(int)\n",
        "\n",
        "# Handling Date\n",
        "# format date and time\n",
        "la['Date'] =  pd.to_datetime(la['Date Occurred'])#, format='%Y/%m/%d')\n",
        "# break up date to allow more variables for comparison\n",
        "la['year'] = pd.DatetimeIndex(la['Date']).year # adds years column\n",
        "la['month'] = pd.DatetimeIndex(la['Date']).month # adds month column\n",
        "la['weekday']= pd.DatetimeIndex(la['Date']).dayofweek # adds weekday column\n",
        "\n",
        "\n",
        "# break up by year subsets\n",
        "la_2015 = la[la['year']== 2015]\n",
        "la_2016 = la[la['year'] == 2016]\n",
        "la_2017 = la[la['year'] == 2017]\n",
        "la_2018 = la[la['year'] == 2018]\n",
        "la_2019 = la[la['year'] == 2019]\n",
        "\n",
        "#This was moved to below the weather merge due to conflicts\n",
        "#making our main dataset only have 2017 and 2018 (due to weather scrape)\n",
        "#la = la[la['year'] == 2017 & 2018]\n",
        "\n",
        "# Handling time, getting hours\n",
        "la[\"Time Occurred\"] = la[\"Time Occurred\"].astype(str)\n",
        "la[\"Time Occurred\"] = [i[:2] if len(i) == 4 else i[0] for i in la[\"Time Occurred\"]]\n",
        "la[\"Time Occurred\"] = la[\"Time Occurred\"].astype(int)\n",
        "la['hours'] = la['Time Occurred'] # adds hours column\n",
        "\n",
        "# handling location column, break up into lat and long columns\n",
        "la['Location'] = [ast.literal_eval(x) for x in la.Location]\n",
        "la['longitude'] = [x['longitude'] for x in la.Location] # adds longitude column\n",
        "la['latitude'] = [x['latitude'] for x in la.Location] # adds latitude column\n",
        "la.longitude = la.longitude.astype(float)\n",
        "la.latitude = la.latitude.astype(float)\n",
        "\n",
        "# drop more columns not needed\n",
        "#la = la.drop(['Location',Time Occurred','Date Occurred'],axis=1)\n",
        "la = la.drop(['Date Occurred'],axis=1)\n",
        "\n",
        "# confirm data types are changed\n",
        "la.dtypes\n",
        "\n",
        "# show final rows and columns for dataset, should now be 382843 rows and 19 columns\n",
        "dataframe_rows, dataframe_cols = la.shape\n",
        "print(\"The dimensions of the cleaned Los Angeles Collision dataset is\",dataframe_rows,\"rows and\",dataframe_cols,\"columns.\")"
      ],
      "execution_count": 0,
      "outputs": [
        {
          "output_type": "stream",
          "text": [
            "The dimensions of the cleaned Los Angeles Collision dataset is 382843 rows and 19 columns.\n"
          ],
          "name": "stdout"
        }
      ]
    },
    {
      "cell_type": "code",
      "metadata": {
        "id": "feRmEb4ffqT-",
        "colab_type": "code",
        "colab": {}
      },
      "source": [
        "# Theme and styles for visuals\n",
        "matplotlib.rcParams['font.family'] = \"serif\" # font\n",
        "sns.set_context('talk') # visuals outputted for presentation style\n",
        "plt.style.use('ggplot')"
      ],
      "execution_count": 0,
      "outputs": []
    },
    {
      "cell_type": "markdown",
      "metadata": {
        "id": "4a-SO73efqUA",
        "colab_type": "text"
      },
      "source": [
        "HANDLING DATA TYPES FOR ANALYSIS"
      ]
    },
    {
      "cell_type": "code",
      "metadata": {
        "id": "k6jwTi1hfqUB",
        "colab_type": "code",
        "outputId": "47841366-d6c1-48c1-a1e6-4998f7d86b1c",
        "colab": {
          "base_uri": "https://localhost:8080/",
          "height": 302
        }
      },
      "source": [
        "la.head() #show final dataset rows"
      ],
      "execution_count": 0,
      "outputs": [
        {
          "output_type": "execute_result",
          "data": {
            "text/plain": [
              "   Time Occurred   Area Name  Victim Age Victim Sex Victim Descent  \\\n",
              "0             10  Devonshire          32          F              W   \n",
              "1             15  Devonshire          78          M              B   \n",
              "2             13  Devonshire          45          M              H   \n",
              "3              8  Devonshire          24          F              H   \n",
              "4             16  Devonshire          35          F              W   \n",
              "\n",
              "  Premise Description                          Address  \\\n",
              "0              STREET  BALBOA                       BL   \n",
              "1              STREET  DE SOTO                      AV   \n",
              "2              STREET  TAMPA                        AV   \n",
              "3              STREET  LINDLEY                      AV   \n",
              "4              STREET  OAKDALE                      AV   \n",
              "\n",
              "                      Cross Street  \\\n",
              "0  PARTHENIA                    ST   \n",
              "1  NORDHOFF                     ST   \n",
              "2  NORDHOFF                     ST   \n",
              "3  NAPA                         ST   \n",
              "4  MARILLA                      ST   \n",
              "\n",
              "                                            Location Zip Codes  \\\n",
              "0  {'latitude': '34.2285', 'human_address': '{\"ad...     18914   \n",
              "1  {'latitude': '34.2355', 'human_address': '{\"ad...      4284   \n",
              "2  {'latitude': '34.2355', 'human_address': '{\"ad...     18513   \n",
              "3  {'latitude': '34.261', 'human_address': '{\"add...     19329   \n",
              "4  {'latitude': '34.2476', 'human_address': '{\"ad...      4284   \n",
              "\n",
              "   Council Districts  Median Income       Date  year  month  weekday  hours  \\\n",
              "0                  2       55024.39 2019-07-20  2019      7        5     10   \n",
              "1                  2       55024.39 2019-07-20  2019      7        5     15   \n",
              "2                  2       55024.39 2019-07-19  2019      7        4     13   \n",
              "3                  2       55024.39 2019-07-19  2019      7        4      8   \n",
              "4                  2       55024.39 2019-07-18  2019      7        3     16   \n",
              "\n",
              "   longitude  latitude  \n",
              "0  -118.5026   34.2285  \n",
              "1  -118.5885   34.2355  \n",
              "2  -118.5536   34.2355  \n",
              "3  -118.4807   34.2610  \n",
              "4  -118.5669   34.2476  "
            ],
            "text/html": [
              "<div>\n",
              "<style scoped>\n",
              "    .dataframe tbody tr th:only-of-type {\n",
              "        vertical-align: middle;\n",
              "    }\n",
              "\n",
              "    .dataframe tbody tr th {\n",
              "        vertical-align: top;\n",
              "    }\n",
              "\n",
              "    .dataframe thead th {\n",
              "        text-align: right;\n",
              "    }\n",
              "</style>\n",
              "<table border=\"1\" class=\"dataframe\">\n",
              "  <thead>\n",
              "    <tr style=\"text-align: right;\">\n",
              "      <th></th>\n",
              "      <th>Time Occurred</th>\n",
              "      <th>Area Name</th>\n",
              "      <th>Victim Age</th>\n",
              "      <th>Victim Sex</th>\n",
              "      <th>Victim Descent</th>\n",
              "      <th>Premise Description</th>\n",
              "      <th>Address</th>\n",
              "      <th>Cross Street</th>\n",
              "      <th>Location</th>\n",
              "      <th>Zip Codes</th>\n",
              "      <th>Council Districts</th>\n",
              "      <th>Median Income</th>\n",
              "      <th>Date</th>\n",
              "      <th>year</th>\n",
              "      <th>month</th>\n",
              "      <th>weekday</th>\n",
              "      <th>hours</th>\n",
              "      <th>longitude</th>\n",
              "      <th>latitude</th>\n",
              "    </tr>\n",
              "  </thead>\n",
              "  <tbody>\n",
              "    <tr>\n",
              "      <th>0</th>\n",
              "      <td>10</td>\n",
              "      <td>Devonshire</td>\n",
              "      <td>32</td>\n",
              "      <td>F</td>\n",
              "      <td>W</td>\n",
              "      <td>STREET</td>\n",
              "      <td>BALBOA                       BL</td>\n",
              "      <td>PARTHENIA                    ST</td>\n",
              "      <td>{'latitude': '34.2285', 'human_address': '{\"ad...</td>\n",
              "      <td>18914</td>\n",
              "      <td>2</td>\n",
              "      <td>55024.39</td>\n",
              "      <td>2019-07-20</td>\n",
              "      <td>2019</td>\n",
              "      <td>7</td>\n",
              "      <td>5</td>\n",
              "      <td>10</td>\n",
              "      <td>-118.5026</td>\n",
              "      <td>34.2285</td>\n",
              "    </tr>\n",
              "    <tr>\n",
              "      <th>1</th>\n",
              "      <td>15</td>\n",
              "      <td>Devonshire</td>\n",
              "      <td>78</td>\n",
              "      <td>M</td>\n",
              "      <td>B</td>\n",
              "      <td>STREET</td>\n",
              "      <td>DE SOTO                      AV</td>\n",
              "      <td>NORDHOFF                     ST</td>\n",
              "      <td>{'latitude': '34.2355', 'human_address': '{\"ad...</td>\n",
              "      <td>4284</td>\n",
              "      <td>2</td>\n",
              "      <td>55024.39</td>\n",
              "      <td>2019-07-20</td>\n",
              "      <td>2019</td>\n",
              "      <td>7</td>\n",
              "      <td>5</td>\n",
              "      <td>15</td>\n",
              "      <td>-118.5885</td>\n",
              "      <td>34.2355</td>\n",
              "    </tr>\n",
              "    <tr>\n",
              "      <th>2</th>\n",
              "      <td>13</td>\n",
              "      <td>Devonshire</td>\n",
              "      <td>45</td>\n",
              "      <td>M</td>\n",
              "      <td>H</td>\n",
              "      <td>STREET</td>\n",
              "      <td>TAMPA                        AV</td>\n",
              "      <td>NORDHOFF                     ST</td>\n",
              "      <td>{'latitude': '34.2355', 'human_address': '{\"ad...</td>\n",
              "      <td>18513</td>\n",
              "      <td>2</td>\n",
              "      <td>55024.39</td>\n",
              "      <td>2019-07-19</td>\n",
              "      <td>2019</td>\n",
              "      <td>7</td>\n",
              "      <td>4</td>\n",
              "      <td>13</td>\n",
              "      <td>-118.5536</td>\n",
              "      <td>34.2355</td>\n",
              "    </tr>\n",
              "    <tr>\n",
              "      <th>3</th>\n",
              "      <td>8</td>\n",
              "      <td>Devonshire</td>\n",
              "      <td>24</td>\n",
              "      <td>F</td>\n",
              "      <td>H</td>\n",
              "      <td>STREET</td>\n",
              "      <td>LINDLEY                      AV</td>\n",
              "      <td>NAPA                         ST</td>\n",
              "      <td>{'latitude': '34.261', 'human_address': '{\"add...</td>\n",
              "      <td>19329</td>\n",
              "      <td>2</td>\n",
              "      <td>55024.39</td>\n",
              "      <td>2019-07-19</td>\n",
              "      <td>2019</td>\n",
              "      <td>7</td>\n",
              "      <td>4</td>\n",
              "      <td>8</td>\n",
              "      <td>-118.4807</td>\n",
              "      <td>34.2610</td>\n",
              "    </tr>\n",
              "    <tr>\n",
              "      <th>4</th>\n",
              "      <td>16</td>\n",
              "      <td>Devonshire</td>\n",
              "      <td>35</td>\n",
              "      <td>F</td>\n",
              "      <td>W</td>\n",
              "      <td>STREET</td>\n",
              "      <td>OAKDALE                      AV</td>\n",
              "      <td>MARILLA                      ST</td>\n",
              "      <td>{'latitude': '34.2476', 'human_address': '{\"ad...</td>\n",
              "      <td>4284</td>\n",
              "      <td>2</td>\n",
              "      <td>55024.39</td>\n",
              "      <td>2019-07-18</td>\n",
              "      <td>2019</td>\n",
              "      <td>7</td>\n",
              "      <td>3</td>\n",
              "      <td>16</td>\n",
              "      <td>-118.5669</td>\n",
              "      <td>34.2476</td>\n",
              "    </tr>\n",
              "  </tbody>\n",
              "</table>\n",
              "</div>"
            ]
          },
          "metadata": {
            "tags": []
          },
          "execution_count": 294
        }
      ]
    },
    {
      "cell_type": "code",
      "metadata": {
        "id": "e_CV0SW0fqUD",
        "colab_type": "code",
        "outputId": "9cbe8e75-17d1-4def-bec1-dcda6a2908e0",
        "colab": {
          "base_uri": "https://localhost:8080/",
          "height": 415
        }
      },
      "source": [
        "summary = la.describe()\n",
        "summary = summary.transpose()\n",
        "print(summary)"
      ],
      "execution_count": 0,
      "outputs": [
        {
          "output_type": "stream",
          "text": [
            "                      count          mean           std         min  \\\n",
            "Time Occurred      382843.0     13.509990      5.648713      1.0000   \n",
            "Victim Age         382843.0     41.516771     16.168685     10.0000   \n",
            "Council Districts  382843.0      8.315022      4.130181      1.0000   \n",
            "Median Income      382843.0  49545.626366  14782.710308  28883.4100   \n",
            "year               382843.0   2014.552683      2.771194   2010.0000   \n",
            "month              382843.0      6.405670      3.427232      1.0000   \n",
            "weekday            382843.0      2.972898      1.954989      0.0000   \n",
            "hours              382843.0     13.509990      5.648713      1.0000   \n",
            "longitude          382843.0   -118.364341      0.104996   -118.6673   \n",
            "latitude           382843.0     34.083394      0.109050     33.7065   \n",
            "\n",
            "                          25%         50%         75%         max  \n",
            "Time Occurred          9.0000     14.0000     18.0000     23.0000  \n",
            "Victim Age            29.0000     39.0000     51.0000     99.0000  \n",
            "Council Districts      5.0000      8.0000     12.0000     15.0000  \n",
            "Median Income      38032.3300  47493.6700  64545.0800  82595.8100  \n",
            "year                2012.0000   2015.0000   2017.0000   2019.0000  \n",
            "month                  3.0000      6.0000      9.0000     12.0000  \n",
            "weekday                1.0000      3.0000      5.0000      6.0000  \n",
            "hours                  9.0000     14.0000     18.0000     23.0000  \n",
            "longitude           -118.4409   -118.3386   -118.2827   -118.1554  \n",
            "latitude              34.0220     34.0653     34.1775     34.3343  \n"
          ],
          "name": "stdout"
        }
      ]
    },
    {
      "cell_type": "markdown",
      "metadata": {
        "id": "5BK6uRLXfqUF",
        "colab_type": "text"
      },
      "source": [
        "ANALYSIS: Weather"
      ]
    },
    {
      "cell_type": "code",
      "metadata": {
        "id": "vhh5Hjm-fqUF",
        "colab_type": "code",
        "colab": {}
      },
      "source": [
        "#Read in the csv with the LA weather data from 2017-2019\n",
        "weather2017 = pd.read_csv('/Users/johnfields/Library/Mobile Documents/com~apple~CloudDocs/Syracuse/IST652/Project/LA weather data/2017weather.csv')\n",
        "weather2018 = pd.read_csv('/Users/johnfields/Library/Mobile Documents/com~apple~CloudDocs/Syracuse/IST652/Project/LA weather data/2018weather_clean2.csv')\n",
        "weather2019 = pd.read_csv('/Users/johnfields/Library/Mobile Documents/com~apple~CloudDocs/Syracuse/IST652/Project/LA weather data/2019weather.csv')\n",
        "weather = pd.concat([weather2017, weather2018, weather2019])\n",
        "weather['Date'] =  pd.to_datetime(weather['Date'])\n",
        "weather['Date'] = weather['Date'].dt.strftime('%Y/%m/%d')"
      ],
      "execution_count": 0,
      "outputs": []
    },
    {
      "cell_type": "code",
      "metadata": {
        "id": "_EBqc9KzfqUx",
        "colab_type": "code",
        "outputId": "101c2ed7-82df-47c6-eb82-70f759c44450",
        "colab": {
          "base_uri": "https://localhost:8080/",
          "height": 198
        }
      },
      "source": [
        "weather.head()"
      ],
      "execution_count": 0,
      "outputs": [
        {
          "output_type": "execute_result",
          "data": {
            "text/plain": [
              "   Unnamed: 0        Date  HighTemp  LowTemp  AverageTemp  Precipitation  \\\n",
              "0           0  2017/01/01        55       39           47           0.00   \n",
              "1           1  2017/01/02        54       48           51           0.00   \n",
              "2           2  2017/01/03        55       45           50           0.00   \n",
              "3           3  2017/01/04        57       46           52           0.07   \n",
              "4           4  2017/01/05        61       52           56           0.31   \n",
              "\n",
              "  NauticalTwilightRise NauticalTwilightSet  \n",
              "0                 6:01                5:54  \n",
              "1                 6:01                5:55  \n",
              "2                 6:01                5:56  \n",
              "3                 6:02                5:57  \n",
              "4                 6:02                5:57  "
            ],
            "text/html": [
              "<div>\n",
              "<style scoped>\n",
              "    .dataframe tbody tr th:only-of-type {\n",
              "        vertical-align: middle;\n",
              "    }\n",
              "\n",
              "    .dataframe tbody tr th {\n",
              "        vertical-align: top;\n",
              "    }\n",
              "\n",
              "    .dataframe thead th {\n",
              "        text-align: right;\n",
              "    }\n",
              "</style>\n",
              "<table border=\"1\" class=\"dataframe\">\n",
              "  <thead>\n",
              "    <tr style=\"text-align: right;\">\n",
              "      <th></th>\n",
              "      <th>Unnamed: 0</th>\n",
              "      <th>Date</th>\n",
              "      <th>HighTemp</th>\n",
              "      <th>LowTemp</th>\n",
              "      <th>AverageTemp</th>\n",
              "      <th>Precipitation</th>\n",
              "      <th>NauticalTwilightRise</th>\n",
              "      <th>NauticalTwilightSet</th>\n",
              "    </tr>\n",
              "  </thead>\n",
              "  <tbody>\n",
              "    <tr>\n",
              "      <th>0</th>\n",
              "      <td>0</td>\n",
              "      <td>2017/01/01</td>\n",
              "      <td>55</td>\n",
              "      <td>39</td>\n",
              "      <td>47</td>\n",
              "      <td>0.00</td>\n",
              "      <td>6:01</td>\n",
              "      <td>5:54</td>\n",
              "    </tr>\n",
              "    <tr>\n",
              "      <th>1</th>\n",
              "      <td>1</td>\n",
              "      <td>2017/01/02</td>\n",
              "      <td>54</td>\n",
              "      <td>48</td>\n",
              "      <td>51</td>\n",
              "      <td>0.00</td>\n",
              "      <td>6:01</td>\n",
              "      <td>5:55</td>\n",
              "    </tr>\n",
              "    <tr>\n",
              "      <th>2</th>\n",
              "      <td>2</td>\n",
              "      <td>2017/01/03</td>\n",
              "      <td>55</td>\n",
              "      <td>45</td>\n",
              "      <td>50</td>\n",
              "      <td>0.00</td>\n",
              "      <td>6:01</td>\n",
              "      <td>5:56</td>\n",
              "    </tr>\n",
              "    <tr>\n",
              "      <th>3</th>\n",
              "      <td>3</td>\n",
              "      <td>2017/01/04</td>\n",
              "      <td>57</td>\n",
              "      <td>46</td>\n",
              "      <td>52</td>\n",
              "      <td>0.07</td>\n",
              "      <td>6:02</td>\n",
              "      <td>5:57</td>\n",
              "    </tr>\n",
              "    <tr>\n",
              "      <th>4</th>\n",
              "      <td>4</td>\n",
              "      <td>2017/01/05</td>\n",
              "      <td>61</td>\n",
              "      <td>52</td>\n",
              "      <td>56</td>\n",
              "      <td>0.31</td>\n",
              "      <td>6:02</td>\n",
              "      <td>5:57</td>\n",
              "    </tr>\n",
              "  </tbody>\n",
              "</table>\n",
              "</div>"
            ]
          },
          "metadata": {
            "tags": []
          },
          "execution_count": 297
        }
      ]
    },
    {
      "cell_type": "code",
      "metadata": {
        "id": "ngzcVMa7fqUz",
        "colab_type": "code",
        "colab": {}
      },
      "source": [
        "#Change the weather data type to datetime\n",
        "weather.Date = pd.to_datetime(weather.Date)\n",
        "#Merge the la and weather dataframes on date\n",
        "laWeather = la.merge(weather, how = 'inner', on = ['Date'])\n",
        "\n",
        "#This was moved to below the weather merge due to conflicts\n",
        "#making our main dataset only have 2017 and 2018 (due to weather scrape)\n",
        "la = la[la['year'] == 2017 & 2018]"
      ],
      "execution_count": 0,
      "outputs": []
    },
    {
      "cell_type": "code",
      "metadata": {
        "id": "NWGJ6HMGfqU3",
        "colab_type": "code",
        "outputId": "c319b08f-a184-4c9d-c406-65bc3c00960d",
        "colab": {
          "base_uri": "https://localhost:8080/",
          "height": 553
        }
      },
      "source": [
        "laWeather.info()"
      ],
      "execution_count": 0,
      "outputs": [
        {
          "output_type": "stream",
          "text": [
            "<class 'pandas.core.frame.DataFrame'>\n",
            "Int64Index: 113597 entries, 0 to 113596\n",
            "Data columns (total 26 columns):\n",
            "Time Occurred           113597 non-null int64\n",
            "Area Name               113597 non-null object\n",
            "Victim Age              113597 non-null int64\n",
            "Victim Sex              113597 non-null object\n",
            "Victim Descent          113597 non-null object\n",
            "Premise Description     113597 non-null object\n",
            "Address                 113597 non-null object\n",
            "Cross Street            113597 non-null object\n",
            "Location                113597 non-null object\n",
            "Zip Codes               113597 non-null object\n",
            "Council Districts       113597 non-null int64\n",
            "Median Income           113597 non-null float64\n",
            "Date                    113597 non-null datetime64[ns]\n",
            "year                    113597 non-null int64\n",
            "month                   113597 non-null int64\n",
            "weekday                 113597 non-null int64\n",
            "hours                   113597 non-null int64\n",
            "longitude               113597 non-null float64\n",
            "latitude                113597 non-null float64\n",
            "Unnamed: 0              113597 non-null int64\n",
            "HighTemp                113597 non-null int64\n",
            "LowTemp                 113597 non-null int64\n",
            "AverageTemp             113597 non-null int64\n",
            "Precipitation           113597 non-null float64\n",
            "NauticalTwilightRise    113597 non-null object\n",
            "NauticalTwilightSet     113597 non-null object\n",
            "dtypes: datetime64[ns](1), float64(4), int64(11), object(10)\n",
            "memory usage: 23.4+ MB\n"
          ],
          "name": "stdout"
        }
      ]
    },
    {
      "cell_type": "markdown",
      "metadata": {
        "id": "6CTbvP1UfqU5",
        "colab_type": "text"
      },
      "source": [
        "ANALYSIS: Location"
      ]
    },
    {
      "cell_type": "code",
      "metadata": {
        "id": "fnaIl5p4fqU5",
        "colab_type": "code",
        "outputId": "a05a0b26-99a2-4ee5-9c90-cba3ad74e6e3",
        "colab": {
          "base_uri": "https://localhost:8080/",
          "height": 305
        }
      },
      "source": [
        "# Create plot of Latitude and Longitude of Accidents\n",
        "# Import matpolotlib for visualizations\n",
        "import matplotlib.pyplot as plt\n",
        "plt.close('all')\n",
        "laWeather.plot(kind='scatter',x='latitude',y='longitude',color='red')\n",
        "plt.show()"
      ],
      "execution_count": 0,
      "outputs": [
        {
          "output_type": "display_data",
          "data": {
            "text/plain": [
              "<Figure size 432x288 with 1 Axes>"
            ],
            "image/png": "[encoded data removed]"
          },
          "metadata": {
            "tags": []
          }
        }
      ]
    },
    {
      "cell_type": "code",
      "metadata": {
        "id": "dTNTA-n6fqU7",
        "colab_type": "code",
        "outputId": "80fe3623-83e0-498b-8d88-60974ff8f2c7",
        "colab": {
          "base_uri": "https://localhost:8080/",
          "height": 35
        }
      },
      "source": [
        "## Visualize the data with MapBox\n",
        "# Source of Map Code: https://towardsdatascience.com/famished-on-the-freeway-visualizing-mapping-la-restaurant-inspections-cb6bc8338111\n",
        "mapbox_token=\"pk.eyJ1IjoianRmaWVsZHMiLCJhIjoiY2p5dWxxcXJxMDF3ZjNtcm9iYmkyZ2w2ZSJ9.353KtPjbC39lk9uVt3r8PQ\"\n",
        "#data parameters from the file to map\n",
        "trace = go.Scattermapbox(lat = laWeather[\"latitude\"], lon = laWeather[\"longitude\"], marker=go.Marker(size=10), mode=\"markers+text\")\n",
        "data = [trace]\n",
        "#define map layout - access token (API), which location map should be centered on\n",
        "layout = go.Layout(mapbox=dict(accesstoken=mapbox_token,center=dict(lat=33.9703, lon=-118.2775), zoom=10))\n",
        "#finalize data and layout\n",
        "figure = go.Figure(data = data, layout = layout)\n",
        "#draw the map NOTE: map will open in your default browser - new tab\n",
        "offline.plot(figure)\n",
        "\n",
        "#33.9703° N, 118.2775° W - 77th st POLICE STATION"
      ],
      "execution_count": 0,
      "outputs": [
        {
          "output_type": "execute_result",
          "data": {
            "text/plain": [
              "'temp-plot.html'"
            ]
          },
          "metadata": {
            "tags": []
          },
          "execution_count": 316
        }
      ]
    },
    {
      "cell_type": "code",
      "metadata": {
        "id": "2GWCzHZhfqU9",
        "colab_type": "code",
        "outputId": "bd393f48-3eeb-4d76-ccb3-e044dfba114b",
        "colab": {
          "base_uri": "https://localhost:8080/",
          "height": 35
        }
      },
      "source": [
        "##Create a different MapBox view of the same data\n",
        "shaz13_custom_style = \"mapbox://styles/shaz13/cjiog1iqa1vkd2soeu5eocy4i\"\n",
        "#set the geo=spatial data\n",
        "data = [go.Scattermapbox(lat = laWeather[\"latitude\"], lon = laWeather[\"longitude\"],mode='markers',\n",
        "    marker=dict(size= 4,color = 'gold',opacity = .8,),)]\n",
        "#set the layout to plot\n",
        "layout = go.Layout(autosize=False,mapbox= dict(accesstoken=mapbox_token,\n",
        "    bearing=10,pitch=60,zoom=13,center= dict(lat=34.03,lon=-118.46),\n",
        "    style=shaz13_custom_style),width=900,height=600,title = \"LA Traffic Collisions 2017-2019\")\n",
        "fig = dict(data=data, layout=layout)\n",
        "offline.plot(fig)"
      ],
      "execution_count": 0,
      "outputs": [
        {
          "output_type": "execute_result",
          "data": {
            "text/plain": [
              "'temp-plot.html'"
            ]
          },
          "metadata": {
            "tags": []
          },
          "execution_count": 314
        }
      ]
    },
    {
      "cell_type": "code",
      "metadata": {
        "id": "eCp8bZ76fqU-",
        "colab_type": "code",
        "outputId": "718041f5-cf02-4b16-ffc1-48c1cd15b44a",
        "colab": {
          "base_uri": "https://localhost:8080/",
          "height": 35
        }
      },
      "source": [
        "##Create a Map Box plot which also includes weather data\n",
        "#Hot Days\n",
        "hot = laWeather[laWeather['HighTemp'] > 100]\n",
        "#Cool Days\n",
        "cool = laWeather[laWeather['LowTemp'] < 40]\n",
        "data = [go.Scattermapbox(\n",
        "            lat= hot['latitude'] ,\n",
        "            lon= hot['longitude'],\n",
        "            mode='markers',\n",
        "            marker=dict(\n",
        "                size= 5,\n",
        "                color = 'gold',\n",
        "                opacity = .8),\n",
        "            name ='Hot'\n",
        "          ),\n",
        "        go.Scattermapbox(\n",
        "            lat= cool['latitude'] ,\n",
        "            lon= cool['longitude'],\n",
        "            mode='markers',\n",
        "            marker=dict(\n",
        "                size= 5,\n",
        "                color = 'cyan',\n",
        "                opacity = .8),\n",
        "            name ='Cool'\n",
        "          )]\n",
        "layout = go.Layout(autosize=False,\n",
        "                   mapbox= dict(accesstoken=mapbox_token,\n",
        "                                bearing=10,\n",
        "                                pitch=60,\n",
        "                                zoom=11,\n",
        "                                center= dict(\n",
        "                                         lat=34.0482,\n",
        "                                         lon=-118.4),\n",
        "                                style= \"mapbox://styles/shaz13/cjiog1iqa1vkd2soeu5eocy4i\"),\n",
        "                    width=900,\n",
        "                    height=600, title = \"LA Accidents 2017-2019 on Hot and Cool Days\")\n",
        "fig = dict(data=data, layout=layout)\n",
        "#offline.plot(fig)\n",
        "plotly.offline.plot(fig, filename='traffic-weather-temp.html')"
      ],
      "execution_count": 0,
      "outputs": [
        {
          "output_type": "execute_result",
          "data": {
            "text/plain": [
              "'traffic-weather-temp.html'"
            ]
          },
          "metadata": {
            "tags": []
          },
          "execution_count": 303
        }
      ]
    },
    {
      "cell_type": "code",
      "metadata": {
        "id": "kTFyI9LivMRb",
        "colab_type": "code",
        "outputId": "8915707b-ff31-4975-b331-9a035d880c8c",
        "colab": {
          "base_uri": "https://localhost:8080/",
          "height": 35
        }
      },
      "source": [
        "##Create a Map Box plot which also includes weather data\n",
        "#Sunrise\n",
        "rain = laWeather[laWeather['Precipitation'] > 0.01]\n",
        "#Not Rain\n",
        "notRain = laWeather[laWeather['Precipitation']==0]\n",
        "data = [go.Scattermapbox(\n",
        "            lat= rain['latitude'] ,\n",
        "            lon= rain['longitude'],\n",
        "            mode='markers',\n",
        "            marker=dict(\n",
        "                size= 5,\n",
        "                color = 'gold',\n",
        "                opacity = .8),\n",
        "            name ='rain'\n",
        "          ),\n",
        "        go.Scattermapbox(\n",
        "            lat= notRain['latitude'] ,\n",
        "            lon= notRain['longitude'],\n",
        "            mode='markers',\n",
        "            marker=dict(\n",
        "                size= 5,\n",
        "                color = 'cyan',\n",
        "                opacity = .8),\n",
        "            name ='no rain'\n",
        "          )]\n",
        "layout = go.Layout(autosize=False,\n",
        "                   mapbox= dict(accesstoken=mapbox_token,\n",
        "                                bearing=10,\n",
        "                                pitch=60,\n",
        "                                zoom=11,\n",
        "                                center= dict(\n",
        "                                         lat=34.0482,\n",
        "                                         lon=-118.4),\n",
        "                                style= \"mapbox://styles/shaz13/cjiog1iqa1vkd2soeu5eocy4i\"),\n",
        "                    width=900,\n",
        "                    height=600, title = \"LA Accidents 2017-2019 with/without precipitation\")\n",
        "fig = dict(data=data, layout=layout)\n",
        "#offline.plot(fig)\n",
        "plotly.offline.plot(fig, filename='traffic-weather.html')"
      ],
      "execution_count": 0,
      "outputs": [
        {
          "output_type": "execute_result",
          "data": {
            "text/plain": [
              "'traffic-weather.html'"
            ]
          },
          "metadata": {
            "tags": []
          },
          "execution_count": 304
        }
      ]
    },
    {
      "cell_type": "markdown",
      "metadata": {
        "id": "VMHt8gzgfqVA",
        "colab_type": "text"
      },
      "source": [
        "ANALYSIS: Time/Date"
      ]
    },
    {
      "cell_type": "code",
      "metadata": {
        "id": "0SJjWOPCfqVB",
        "colab_type": "code",
        "outputId": "2df8109d-3298-4b0e-97fa-76500290ccdf",
        "colab": {
          "base_uri": "https://localhost:8080/",
          "height": 523
        }
      },
      "source": [
        "# Time, Collisions by month\n",
        "fig,ax = plt.subplots(figsize=(12,8))\n",
        "sns.countplot(x = 'month',data = la,palette='muted')\n",
        "ax.set_xticklabels([\"January\", \"February\", \"March\", \"April\", \"May\", \"June\", \"July\",\"August\",\"September\",\"October\",\"November\",\"December\"], fontsize=9)\n",
        "ax.set_title('Number of car collisions in LA by month (2017 - 2018)');"
      ],
      "execution_count": 0,
      "outputs": [
        {
          "output_type": "display_data",
          "data": {
            "text/plain": [
              "<Figure size 864x576 with 1 Axes>"
            ],
            "image/png": "[encoded data removed]"
          },
          "metadata": {
            "tags": []
          }
        }
      ]
    },
    {
      "cell_type": "code",
      "metadata": {
        "id": "eKOk5cz6fqVC",
        "colab_type": "code",
        "outputId": "ba925bb1-e940-422a-ec30-fc538fd9eb98",
        "colab": {
          "base_uri": "https://localhost:8080/",
          "height": 523
        }
      },
      "source": [
        "# Collisions by month in 2017 \n",
        "\n",
        "fig,ax = plt.subplots(figsize=(12,8))\n",
        "sns.countplot(x = 'month',data = la_2017,palette='muted')\n",
        "ax.set_xticklabels([\"January\", \"February\", \"March\", \"April\", \"May\", \"June\", \"July\",\"August\",\"September\",\"October\",\"November\",\"December\"], fontsize=9)\n",
        "ax.set_title('Number of car collisions in LA by month (2017)');\n",
        "\n"
      ],
      "execution_count": 0,
      "outputs": [
        {
          "output_type": "display_data",
          "data": {
            "text/plain": [
              "<Figure size 864x576 with 1 Axes>"
            ],
            "image/png": "[encoded data removed]"
          },
          "metadata": {
            "tags": []
          }
        }
      ]
    },
    {
      "cell_type": "code",
      "metadata": {
        "id": "bQ_3DYUBfqVE",
        "colab_type": "code",
        "outputId": "2ba41ef5-6509-4f7b-812a-6eb6eb05cf26",
        "colab": {
          "base_uri": "https://localhost:8080/",
          "height": 523
        }
      },
      "source": [
        "# Collisions by month in 2018\n",
        "\n",
        "fig,ax = plt.subplots(figsize=(12,8))\n",
        "sns.countplot(x = 'month',data = la_2018,palette='muted')\n",
        "ax.set_xticklabels([\"January\", \"February\", \"March\", \"April\", \"May\", \"June\", \"July\",\"August\",\"September\",\"October\",\"November\",\"December\"], fontsize=9)\n",
        "ax.set_title('Number of car collisions in LA by month (2018)');"
      ],
      "execution_count": 0,
      "outputs": [
        {
          "output_type": "display_data",
          "data": {
            "text/plain": [
              "<Figure size 864x576 with 1 Axes>"
            ],
            "image/png": "[encoded data removed]"
          },
          "metadata": {
            "tags": []
          }
        }
      ]
    },
    {
      "cell_type": "code",
      "metadata": {
        "id": "8LmZi-IQfqVH",
        "colab_type": "code",
        "outputId": "845e568f-ab9f-4bc9-d216-2c27d112f60c",
        "colab": {
          "base_uri": "https://localhost:8080/",
          "height": 523
        }
      },
      "source": [
        "# collisions by weekday\n",
        "fig,ax = plt.subplots(figsize=(12,8))\n",
        "sns.countplot(x = 'weekday',data = la,palette='muted')\n",
        "ax.set_xticklabels([\"Monday\", \"Tuesday\", \"Wednesday\", \"Thursday\", \"Friday\", \"Saturday\", \"Sunday\"], fontsize=10)\n",
        "ax.set_title('Collisions by day of the week in LA (2017 - 2018)');"
      ],
      "execution_count": 0,
      "outputs": [
        {
          "output_type": "display_data",
          "data": {
            "text/plain": [
              "<Figure size 864x576 with 1 Axes>"
            ],
            "image/png": "[encoded data removed]"
          },
          "metadata": {
            "tags": []
          }
        }
      ]
    },
    {
      "cell_type": "markdown",
      "metadata": {
        "id": "nUqsxjTzfqVK",
        "colab_type": "text"
      },
      "source": [
        "ANALYSIS: Location"
      ]
    },
    {
      "cell_type": "code",
      "metadata": {
        "id": "WR27m5NlfqVL",
        "colab_type": "code",
        "outputId": "22d87ae7-0c42-43be-f7e7-0a1f246376a0",
        "colab": {
          "base_uri": "https://localhost:8080/",
          "height": 909
        }
      },
      "source": [
        "# collisions by area name, descending values, ORDERED\n",
        "\n",
        "fig,ax = plt.subplots(figsize=(10,8))\n",
        "descending_order = la['Area Name'].value_counts().sort_values(ascending=False).index\n",
        "sns.countplot(data=la,y=\"Area Name\",order=descending_order, palette='muted')\n",
        "ax.set_title('Collisions in LA by Area Name');\n",
        "\n",
        "la['Area Name'].value_counts()"
      ],
      "execution_count": 0,
      "outputs": [
        {
          "output_type": "execute_result",
          "data": {
            "text/plain": [
              "77th Street    3088\n",
              "Wilshire       2805\n",
              "Southwest      2754\n",
              "Van Nuys       2459\n",
              "Olympic        2412\n",
              "Newton         2350\n",
              "N Hollywood    2347\n",
              "West LA        2270\n",
              "Pacific        2242\n",
              "Devonshire     2202\n",
              "West Valley    2147\n",
              "Mission        2097\n",
              "Hollywood      2094\n",
              "Topanga        2082\n",
              "Central        2072\n",
              "Northeast      1833\n",
              "Southeast      1790\n",
              "Foothill       1566\n",
              "Harbor         1493\n",
              "Hollenbeck     1492\n",
              "Rampart        1265\n",
              "Name: Area Name, dtype: int64"
            ]
          },
          "metadata": {
            "tags": []
          },
          "execution_count": 309
        },
        {
          "output_type": "display_data",
          "data": {
            "text/plain": [
              "<Figure size 720x576 with 1 Axes>"
            ],
            "image/png": "[encoded data removed]"
          },
          "metadata": {
            "tags": []
          }
        }
      ]
    },
    {
      "cell_type": "code",
      "metadata": {
        "id": "XXXj4wQhfqVO",
        "colab_type": "code",
        "outputId": "60d9e60d-4d00-45a9-9115-0c18f2197437",
        "colab": {
          "base_uri": "https://localhost:8080/",
          "height": 806
        }
      },
      "source": [
        "# collisions by council district name\n",
        "fig,ax = plt.subplots(figsize=(10,8))\n",
        "sns.countplot(x=\"Council Districts\",data=la,palette='colorblind')\n",
        "ax.set_title('Collisions in LA by Council District (2017 - 2018)');\n",
        "\n",
        "la['Council Districts'].value_counts()"
      ],
      "execution_count": 0,
      "outputs": [
        {
          "output_type": "execute_result",
          "data": {
            "text/plain": [
              "12    3856\n",
              "14    3815\n",
              "9     3726\n",
              "13    3711\n",
              "7     3480\n",
              "3     3109\n",
              "6     2945\n",
              "8     2884\n",
              "10    2846\n",
              "5     2839\n",
              "4     2820\n",
              "2     2584\n",
              "15    2243\n",
              "11    2059\n",
              "1     1943\n",
              "Name: Council Districts, dtype: int64"
            ]
          },
          "metadata": {
            "tags": []
          },
          "execution_count": 310
        },
        {
          "output_type": "display_data",
          "data": {
            "text/plain": [
              "<Figure size 720x576 with 1 Axes>"
            ],
            "image/png": "[encoded data removed]"
          },
          "metadata": {
            "tags": []
          }
        }
      ]
    },
    {
      "cell_type": "code",
      "metadata": {
        "id": "Ih0mx7tTfqVQ",
        "colab_type": "code",
        "outputId": "2af1d422-5a9a-44ef-9a5c-11b6be38b703",
        "colab": {
          "base_uri": "https://localhost:8080/",
          "height": 684
        }
      },
      "source": [
        "# Collisions by zip code\n",
        "# TO DO, make top 50, descending order, add title, vertical X axis\n",
        "descending_order = la['Zip Codes'].value_counts().sort_values(ascending=False).index[:50]\n",
        "#sns.countplot(data=la,x=\"Zip Codes\",order=descending_order, palette = 'muted')\n",
        "\n",
        "#sort_values(ascending=0)[:10].plot(kind='bar')\n",
        "\n",
        "fig,ax = plt.subplots(figsize=(15,10)), plt.xticks(rotation=90)\n",
        "sns.countplot(x=\"Zip Codes\",data=la, palette='muted', order=descending_order)\n",
        "#ax.set_title('Collissions in LA by Zip Code (2017 - 2018)');\n",
        "\n",
        "#la['Zip Codes'].value_counts()"
      ],
      "execution_count": 0,
      "outputs": [
        {
          "output_type": "execute_result",
          "data": {
            "text/plain": [
              "<matplotlib.axes._subplots.AxesSubplot at 0x7fa0f3376cf8>"
            ]
          },
          "metadata": {
            "tags": []
          },
          "execution_count": 311
        },
        {
          "output_type": "display_data",
          "data": {
            "text/plain": [
              "<Figure size 1080x720 with 1 Axes>"
            ],
            "image/png": "[encoded data removed]"
          },
          "metadata": {
            "tags": []
          }
        }
      ]
    },
    {
      "cell_type": "markdown",
      "metadata": {
        "id": "U7Sf_wblfqVS",
        "colab_type": "text"
      },
      "source": [
        "ANALYSIS: Demographics"
      ]
    },
    {
      "cell_type": "code",
      "metadata": {
        "id": "tAXkS90cfqVT",
        "colab_type": "code",
        "outputId": "1b4a6c6b-29df-4d73-a971-21735a0d0528",
        "colab": {
          "base_uri": "https://localhost:8080/",
          "height": 310
        }
      },
      "source": [
        "# Create a bar chart with the number of donors/non-donors by region\n",
        "la.groupby(['age_by_decade','Victim Sex']).size().unstack().plot(kind='bar',stacked=True)"
      ],
      "execution_count": 0,
      "outputs": [
        {
          "output_type": "error",
          "ename": "KeyError",
          "evalue": "ignored",
          "traceback": [
            "\u001b[0;31m---------------------------------------------------------------------------\u001b[0m",
            "\u001b[0;31mKeyError\u001b[0m                                  Traceback (most recent call last)",
            "\u001b[0;32m<ipython-input-312-a3c1ac59a551>\u001b[0m in \u001b[0;36m<module>\u001b[0;34m\u001b[0m\n\u001b[0;32m----> 1\u001b[0;31m \u001b[0mla\u001b[0m\u001b[0;34m.\u001b[0m\u001b[0mgroupby\u001b[0m\u001b[0;34m(\u001b[0m\u001b[0;34m[\u001b[0m\u001b[0;34m'age_by_decade'\u001b[0m\u001b[0;34m,\u001b[0m\u001b[0;34m'Victim Sex'\u001b[0m\u001b[0;34m]\u001b[0m\u001b[0;34m)\u001b[0m\u001b[0;34m.\u001b[0m\u001b[0msize\u001b[0m\u001b[0;34m(\u001b[0m\u001b[0;34m)\u001b[0m\u001b[0;34m.\u001b[0m\u001b[0munstack\u001b[0m\u001b[0;34m(\u001b[0m\u001b[0;34m)\u001b[0m\u001b[0;34m.\u001b[0m\u001b[0mplot\u001b[0m\u001b[0;34m(\u001b[0m\u001b[0mkind\u001b[0m\u001b[0;34m=\u001b[0m\u001b[0;34m'bar'\u001b[0m\u001b[0;34m,\u001b[0m\u001b[0mstacked\u001b[0m\u001b[0;34m=\u001b[0m\u001b[0;32mTrue\u001b[0m\u001b[0;34m)\u001b[0m\u001b[0;34m\u001b[0m\u001b[0;34m\u001b[0m\u001b[0m\n\u001b[0m",
            "\u001b[0;32m/anaconda3/lib/python3.7/site-packages/pandas/core/generic.py\u001b[0m in \u001b[0;36mgroupby\u001b[0;34m(self, by, axis, level, as_index, sort, group_keys, squeeze, observed, **kwargs)\u001b[0m\n\u001b[1;32m   7630\u001b[0m         return groupby(self, by=by, axis=axis, level=level, as_index=as_index,\n\u001b[1;32m   7631\u001b[0m                        \u001b[0msort\u001b[0m\u001b[0;34m=\u001b[0m\u001b[0msort\u001b[0m\u001b[0;34m,\u001b[0m \u001b[0mgroup_keys\u001b[0m\u001b[0;34m=\u001b[0m\u001b[0mgroup_keys\u001b[0m\u001b[0;34m,\u001b[0m \u001b[0msqueeze\u001b[0m\u001b[0;34m=\u001b[0m\u001b[0msqueeze\u001b[0m\u001b[0;34m,\u001b[0m\u001b[0;34m\u001b[0m\u001b[0;34m\u001b[0m\u001b[0m\n\u001b[0;32m-> 7632\u001b[0;31m                        observed=observed, **kwargs)\n\u001b[0m\u001b[1;32m   7633\u001b[0m \u001b[0;34m\u001b[0m\u001b[0m\n\u001b[1;32m   7634\u001b[0m     def asfreq(self, freq, method=None, how=None, normalize=False,\n",
            "\u001b[0;32m/anaconda3/lib/python3.7/site-packages/pandas/core/groupby/groupby.py\u001b[0m in \u001b[0;36mgroupby\u001b[0;34m(obj, by, **kwds)\u001b[0m\n\u001b[1;32m   2108\u001b[0m         \u001b[0;32mraise\u001b[0m \u001b[0mTypeError\u001b[0m\u001b[0;34m(\u001b[0m\u001b[0;34m'invalid type: {}'\u001b[0m\u001b[0;34m.\u001b[0m\u001b[0mformat\u001b[0m\u001b[0;34m(\u001b[0m\u001b[0mobj\u001b[0m\u001b[0;34m)\u001b[0m\u001b[0;34m)\u001b[0m\u001b[0;34m\u001b[0m\u001b[0;34m\u001b[0m\u001b[0m\n\u001b[1;32m   2109\u001b[0m \u001b[0;34m\u001b[0m\u001b[0m\n\u001b[0;32m-> 2110\u001b[0;31m     \u001b[0;32mreturn\u001b[0m \u001b[0mklass\u001b[0m\u001b[0;34m(\u001b[0m\u001b[0mobj\u001b[0m\u001b[0;34m,\u001b[0m \u001b[0mby\u001b[0m\u001b[0;34m,\u001b[0m \u001b[0;34m**\u001b[0m\u001b[0mkwds\u001b[0m\u001b[0;34m)\u001b[0m\u001b[0;34m\u001b[0m\u001b[0;34m\u001b[0m\u001b[0m\n\u001b[0m",
            "\u001b[0;32m/anaconda3/lib/python3.7/site-packages/pandas/core/groupby/groupby.py\u001b[0m in \u001b[0;36m__init__\u001b[0;34m(self, obj, keys, axis, level, grouper, exclusions, selection, as_index, sort, group_keys, squeeze, observed, **kwargs)\u001b[0m\n\u001b[1;32m    358\u001b[0m                                                     \u001b[0msort\u001b[0m\u001b[0;34m=\u001b[0m\u001b[0msort\u001b[0m\u001b[0;34m,\u001b[0m\u001b[0;34m\u001b[0m\u001b[0;34m\u001b[0m\u001b[0m\n\u001b[1;32m    359\u001b[0m                                                     \u001b[0mobserved\u001b[0m\u001b[0;34m=\u001b[0m\u001b[0mobserved\u001b[0m\u001b[0;34m,\u001b[0m\u001b[0;34m\u001b[0m\u001b[0;34m\u001b[0m\u001b[0m\n\u001b[0;32m--> 360\u001b[0;31m                                                     mutated=self.mutated)\n\u001b[0m\u001b[1;32m    361\u001b[0m \u001b[0;34m\u001b[0m\u001b[0m\n\u001b[1;32m    362\u001b[0m         \u001b[0mself\u001b[0m\u001b[0;34m.\u001b[0m\u001b[0mobj\u001b[0m \u001b[0;34m=\u001b[0m \u001b[0mobj\u001b[0m\u001b[0;34m\u001b[0m\u001b[0;34m\u001b[0m\u001b[0m\n",
            "\u001b[0;32m/anaconda3/lib/python3.7/site-packages/pandas/core/groupby/grouper.py\u001b[0m in \u001b[0;36m_get_grouper\u001b[0;34m(obj, key, axis, level, sort, observed, mutated, validate)\u001b[0m\n\u001b[1;32m    576\u001b[0m                 \u001b[0min_axis\u001b[0m\u001b[0;34m,\u001b[0m \u001b[0mname\u001b[0m\u001b[0;34m,\u001b[0m \u001b[0mlevel\u001b[0m\u001b[0;34m,\u001b[0m \u001b[0mgpr\u001b[0m \u001b[0;34m=\u001b[0m \u001b[0;32mFalse\u001b[0m\u001b[0;34m,\u001b[0m \u001b[0;32mNone\u001b[0m\u001b[0;34m,\u001b[0m \u001b[0mgpr\u001b[0m\u001b[0;34m,\u001b[0m \u001b[0;32mNone\u001b[0m\u001b[0;34m\u001b[0m\u001b[0;34m\u001b[0m\u001b[0m\n\u001b[1;32m    577\u001b[0m             \u001b[0;32melse\u001b[0m\u001b[0;34m:\u001b[0m\u001b[0;34m\u001b[0m\u001b[0;34m\u001b[0m\u001b[0m\n\u001b[0;32m--> 578\u001b[0;31m                 \u001b[0;32mraise\u001b[0m \u001b[0mKeyError\u001b[0m\u001b[0;34m(\u001b[0m\u001b[0mgpr\u001b[0m\u001b[0;34m)\u001b[0m\u001b[0;34m\u001b[0m\u001b[0;34m\u001b[0m\u001b[0m\n\u001b[0m\u001b[1;32m    579\u001b[0m         \u001b[0;32melif\u001b[0m \u001b[0misinstance\u001b[0m\u001b[0;34m(\u001b[0m\u001b[0mgpr\u001b[0m\u001b[0;34m,\u001b[0m \u001b[0mGrouper\u001b[0m\u001b[0;34m)\u001b[0m \u001b[0;32mand\u001b[0m \u001b[0mgpr\u001b[0m\u001b[0;34m.\u001b[0m\u001b[0mkey\u001b[0m \u001b[0;32mis\u001b[0m \u001b[0;32mnot\u001b[0m \u001b[0;32mNone\u001b[0m\u001b[0;34m:\u001b[0m\u001b[0;34m\u001b[0m\u001b[0;34m\u001b[0m\u001b[0m\n\u001b[1;32m    580\u001b[0m             \u001b[0;31m# Add key to exclusions\u001b[0m\u001b[0;34m\u001b[0m\u001b[0;34m\u001b[0m\u001b[0;34m\u001b[0m\u001b[0m\n",
            "\u001b[0;31mKeyError\u001b[0m: 'age_by_decade'"
          ]
        }
      ]
    },
    {
      "cell_type": "code",
      "metadata": {
        "id": "49TZpQUIfqVV",
        "colab_type": "code",
        "colab": {}
      },
      "source": [
        "# Victim age violin plot\n",
        "#sns.violinplot(x=\"rank\", y=\"senitment\", hue=\"category\", data=df)\n",
        "sns.violinplot(x='Victim Age', data=la)\n",
        "#ax.set_title('Victim Age Distribution (2017 - 2018)')"
      ],
      "execution_count": 0,
      "outputs": []
    },
    {
      "cell_type": "code",
      "metadata": {
        "id": "SGzBilaLfqVW",
        "colab_type": "code",
        "colab": {}
      },
      "source": [
        "# breakdown of victim races (2017 - 2018)\n",
        "la['Victim Descent'].value_counts()"
      ],
      "execution_count": 0,
      "outputs": []
    },
    {
      "cell_type": "code",
      "metadata": {
        "id": "5I9leocxfqVY",
        "colab_type": "code",
        "colab": {}
      },
      "source": [
        "#bin victim ages\n",
        "\n",
        "la['age_by_decade'] = pd.cut(x=la['Victim Age'], bins=[19,29,39,49,59,69,79], labels=['20s','30s','40s','50s','60s','70s'])"
      ],
      "execution_count": 0,
      "outputs": []
    },
    {
      "cell_type": "code",
      "metadata": {
        "scrolled": true,
        "id": "H7m478iTfqVZ",
        "colab_type": "code",
        "colab": {}
      },
      "source": [
        "# Create bar chart by Victim Race and Age by Decade\n",
        "la.groupby(['Victim Descent','age_by_decade']).size().unstack().plot(kind='bar',stacked=True)\n",
        "plt.show()"
      ],
      "execution_count": 0,
      "outputs": []
    },
    {
      "cell_type": "code",
      "metadata": {
        "id": "mZ7-_EpPfqVb",
        "colab_type": "code",
        "colab": {}
      },
      "source": [
        "# Race and income breakdown \n",
        "\n",
        "#la.groupby(['Victim Descent', 'Median Income']).size()"
      ],
      "execution_count": 0,
      "outputs": []
    },
    {
      "cell_type": "code",
      "metadata": {
        "id": "BcNQuiPmfqVd",
        "colab_type": "code",
        "colab": {}
      },
      "source": [
        "# Victims\n",
        "# variables with very little count were ommitted, top 5 displayed\n",
        "fig,ax = plt.subplots(figsize=(12,8))\n",
        "\n",
        "descending_order = la['Victim Descent'].value_counts().sort_values(ascending=False).index\n",
        "sns.countplot(data=la,x=\"Victim Descent\", palette = 'muted',  order=la['Victim Descent'].value_counts().iloc[:5].index)\n",
        "ax.set_title('Top 5 Ethnicities of Victims in Colllisions in LA (2017 - 2018)');"
      ],
      "execution_count": 0,
      "outputs": []
    },
    {
      "cell_type": "code",
      "metadata": {
        "id": "x77y6tePfqVf",
        "colab_type": "code",
        "colab": {}
      },
      "source": [
        "# race by age breakdown\n",
        "\n",
        "# List of races to plot\n",
        "races = ['A', 'W', 'H', 'B' ]\n",
        "\n",
        "# Iterate through \n",
        "for race in races:\n",
        "    subset = la[la['Victim Descent'] == race]\n",
        "    \n",
        "    # Draw the density plot\n",
        "    sns.distplot(subset['Victim Age'], hist = False, kde = True,\n",
        "                 kde_kws = {'linewidth': 3},\n",
        "                 label = race)\n",
        "    \n",
        "\n",
        "# Plot formatting\n",
        "plt.legend(prop={'size': 16}, title = 'Race')\n",
        "plt.title('Victim Race and Age (2017 - 2018)')\n",
        "plt.xlabel('Age')\n",
        "plt.ylabel('Density')"
      ],
      "execution_count": 0,
      "outputs": []
    },
    {
      "cell_type": "code",
      "metadata": {
        "id": "N215lAV3fqVh",
        "colab_type": "code",
        "colab": {}
      },
      "source": [
        "# race by council district breakdown\n",
        "\n",
        "# List of races to plot\n",
        "airlines = ['A', 'W', 'H', 'B' ]\n",
        "\n",
        "\n",
        "\n",
        "\n",
        "# Iterate through \n",
        "for race in races:\n",
        "    subset = la[la['Victim Descent'] == race]\n",
        "    \n",
        "# Draw density plot\n",
        "    sns.distplot(subset['Council Districts'], hist = False, kde = True,\n",
        "                 kde_kws = {'linewidth': 3},\n",
        "                 label = race)\n",
        "    \n",
        "\n",
        "# Plot formatting\n",
        "plt.legend(prop={'size': 16}, title = 'Race')\n",
        "plt.title('Victim Race and Council Districts (2017 - 2018)')\n",
        "plt.xlabel('Council Districts')\n",
        "plt.ylabel('Density')"
      ],
      "execution_count": 0,
      "outputs": []
    },
    {
      "cell_type": "code",
      "metadata": {
        "id": "cEs69KT1fqVn",
        "colab_type": "code",
        "colab": {}
      },
      "source": [
        "# income and race breakdown\n",
        "\n",
        "# List of races to plot\n",
        "airlines = ['A', 'W', 'H', 'B' ]\n",
        "\n",
        "# Iterate through\n",
        "for race in races:\n",
        "    subset = la[la['Victim Descent'] == race]\n",
        "    \n",
        "# Draw the density plot\n",
        "    sns.distplot(subset['Median Income'], hist = False, kde = True,\n",
        "                 kde_kws = {'linewidth': 3},\n",
        "                 label = race)\n",
        "    \n",
        "\n",
        "# Plot formatting\n",
        "plt.legend(prop={'size': 16}, title = 'Race')\n",
        "plt.title('Victim Race and Median Income (2017 - 2018)')\n",
        "plt.xlabel('Median Income')\n",
        "plt.ylabel('Density')"
      ],
      "execution_count": 0,
      "outputs": []
    },
    {
      "cell_type": "code",
      "metadata": {
        "id": "PHOu5k6MfqVo",
        "colab_type": "code",
        "colab": {}
      },
      "source": [
        "# line chart for victim race and income\n",
        "\n",
        "#sns.lineplot(x=\"timepoint\", y=\"signal\", data=fmri)\n",
        "\n",
        "sns.lineplot(x='Victim Descent', y='Median Income', data=la, markers=True, dashes=False)\n",
        "\n",
        "#plot formatting \n",
        "#plt.legend(prop={'size': 16}, title = 'Race')\n",
        "plt.title('Victim Descent and Median Income (2017 - 2018)')\n"
      ],
      "execution_count": 0,
      "outputs": []
    },
    {
      "cell_type": "code",
      "metadata": {
        "id": "av7gU4xsfqVq",
        "colab_type": "code",
        "colab": {}
      },
      "source": [
        "# Victim's Ages\n",
        "la['Victim Age'].describe()"
      ],
      "execution_count": 0,
      "outputs": []
    },
    {
      "cell_type": "code",
      "metadata": {
        "id": "oBFDDCGifqVr",
        "colab_type": "code",
        "colab": {}
      },
      "source": [
        "# line chart for victim race and income\n",
        "\n",
        "#sns.lineplot(x=\"timepoint\", y=\"signal\", data=fmri)\n",
        "\n",
        "sns.lineplot(x='Victim Age', y='Median Income', data=la)\n",
        "\n",
        "#plot formatting \n",
        "#plt.legend(prop={'size': 16}, title = 'Race')\n",
        "plt.title('Victim Age and Median Income (2017 - 2018)')"
      ],
      "execution_count": 0,
      "outputs": []
    },
    {
      "cell_type": "code",
      "metadata": {
        "id": "_G6HKeIufqVt",
        "colab_type": "code",
        "colab": {}
      },
      "source": [
        "# barplot for victim race and income\n",
        "\n",
        "#sns.lineplot(x=\"timepoint\", y=\"signal\", data=fmri)\n",
        "\n",
        "#Victim income scatterplot\n",
        "\n",
        "#ax = sns.scatterplot(x=\"total_bill\", y=\"tip\", hue=\"time\",data=tips)\n",
        "\n",
        "sns.barplot(y='Median Income', x='Victim Descent', data=la)\n",
        "#plot formatting \n",
        "#plt.legend(prop={'size': 16}, title = 'Race')\n",
        "plt.title('Victim Race and Median Income (2017 - 2018)')"
      ],
      "execution_count": 0,
      "outputs": []
    },
    {
      "cell_type": "code",
      "metadata": {
        "id": "1gSpbHxEfqVu",
        "colab_type": "code",
        "colab": {}
      },
      "source": [
        "# Victim's Age Visualization\n",
        "# why so many 99 year olds?\n",
        "\n",
        "fig,ax = plt.subplots(figsize=(12,18))\n",
        "sns.countplot(y=\"Victim Age\",data=la,palette='muted')\n",
        "ax.set_title('Ages of victims in collisions in LA (2017 - 2018)');"
      ],
      "execution_count": 0,
      "outputs": []
    },
    {
      "cell_type": "code",
      "metadata": {
        "id": "_BbouP41fqVw",
        "colab_type": "code",
        "colab": {}
      },
      "source": [
        "# Victims\n",
        "# variables with very little count were ommitted, top 5 displayed\n",
        "fig,ax = plt.subplots(figsize=(12,8))\n",
        "\n",
        "#descending_order = la['Median Income'].value_counts().sort_values(ascending=False).index\n",
        "sns.countplot(data=la,x=\"Median Income\", palette = 'muted',  order=la['Median Income'].value_counts().iloc[:5].index)\n",
        "ax.set_title('Distribution of Median Income in Colllisions in LA (2017 - 2018)');"
      ],
      "execution_count": 0,
      "outputs": []
    },
    {
      "cell_type": "code",
      "metadata": {
        "id": "AxK9VF3ifqVx",
        "colab_type": "code",
        "colab": {}
      },
      "source": [
        "import matplotlib.pyplot as plt\n",
        "%matplotlib inline\n",
        "\n",
        "plt.style.use('ggplot')\n",
        "\n",
        "a = df.groupby('normal').size()\n",
        "b = df.groupby('chi').size()\n",
        "\n",
        "categories = df['normal'].cat.categories\n",
        "ind = np.array([x for x, _ in enumerate(categories)])\n",
        "width = 0.35       \n",
        "plt.bar(ind, a, width, label='Normal')\n",
        "plt.bar(ind + width, b, width,\n",
        "    label='Chi Square')\n",
        "\n",
        "plt.xticks(ind + width / 2, categories)\n",
        "plt.legend(loc='best')\n",
        "plt.xticks(rotation = 90)\n",
        "plt.show()\n",
        "\n",
        "# Bin income\n",
        "#df_ages['age_bins'] = pd.cut(x=df_ages['age'], bins=[20, 29, 39, 49])\n",
        "\n",
        "la['income_bin']=pd.cut(x=la['Median Income'], bins[0, 20000, 30000, 40000, 50000, 60000, 70000, 80000, 90000])\n",
        "\n",
        "#pd.cut(df['normal'], 8).head()\n",
        "#pd.cut(la['Median Income'], 5).head()\n",
        "custom_bucket_array = np.linspace(0, 20, 9)\n",
        "custom_bucket_array\n",
        "\n",
        "income_bucket = np.linspace()\n",
        "\n",
        "df['normal'] = pd.cut(df['normal'], custom_bucket_array)\n",
        "df['chi'] = pd.cut(df['chi'], custom_bucket_array)\n",
        "df.head()\n",
        "\n",
        "df['normal'] = pd.cut(df['normal'], custom_bucket_array)\n",
        "df['chi'] = pd.cut(df['chi'], custom_bucket_array)\n",
        "df.head()"
      ],
      "execution_count": 0,
      "outputs": []
    },
    {
      "cell_type": "code",
      "metadata": {
        "scrolled": true,
        "id": "fYUqsTTlfqVy",
        "colab_type": "code",
        "colab": {}
      },
      "source": [
        "# make bins of Median Income\n",
        "\n",
        "import matplotlib\n",
        "plt.style.use('ggplot')\n",
        "#df_ages['age_bins'] = pd.cut(x=df_ages['age'], bins=[20, 29, 39, 49])\n",
        "la['income_bins'] = pd.cut(x=la['Median Income'], bins=[20000, 30000, 40000, 50000, 60000, 70000, 80000, 90000], labels=['20-29k', '30-39k', '40-49k', '50-59k', '60-69k', '70-79k', '80-89k'])\n",
        "#la['Median Income'].round(0)\n",
        "#la['Median Income'].astype(int)\n",
        "\n",
        "#la.income_bins.head()\n",
        "\n",
        "\n",
        "\n",
        "#width = 0.35       \n",
        "#a = la.groupby('income_bins').size()\n",
        "#plt.bar(la, a, width, label='Normal')\n",
        "\n",
        "fig,ax = plt.subplots(figsize=(10,8))\n",
        "sns.countplot(x=\"Council Districts\",data=la,palette='colorblind')\n",
        "ax.set_title('Collisions in LA by Council District (2017 - 2018)')\n",
        "\n",
        "ax = la['income_bins'].value_counts(sort=False).plot.bar(rot=0, color='b', figsize=(6,4)), plt.xticks(rotation=90)\n",
        "#ax.set_xticklabels([c[1:-1].replace(\",\",\" to\") for c in la['income_bins'].cat.categories])\n",
        "plt.show()\n",
        "#ax.set_title('Median Income Binned (2017 - 2018)')\n",
        "#sns.countplot(data=la,x=\"Median Income\", palette = 'muted',  order=la['Median Income'].value_counts().iloc[:5].index)"
      ],
      "execution_count": 0,
      "outputs": []
    },
    {
      "cell_type": "code",
      "metadata": {
        "id": "JtO0bBJ6fqV0",
        "colab_type": "code",
        "colab": {}
      },
      "source": [
        "# Income Distribution of colission victims\n",
        "\n",
        "fig,ax = plt.subplots(figsize=(10,8))\n",
        "sns.countplot(x=\"income_bins\",data=la,palette='colorblind')\n",
        "ax.set_title('Income Distribution of Colission Victims (2017 - 2018)')\n",
        "\n",
        "\n"
      ],
      "execution_count": 0,
      "outputs": []
    },
    {
      "cell_type": "code",
      "metadata": {
        "id": "ABnYheVEfqV1",
        "colab_type": "code",
        "colab": {}
      },
      "source": [
        "# stacked barchart\n",
        "\n",
        "fig,ax = plt.subplots(figsize=(10,8))\n",
        "sns.countplot(x=\"income_bins\",data=la,palette='colorblind')\n",
        "ax.set_title('Income Distribution of Colission Victims (2017 - 2018)')\n",
        "\n",
        "\n",
        "\n",
        "\n",
        "\n",
        "from matplotlib.colors import ListedColormap\n",
        "    la.set_index('Victim Descent')\\\n",
        "      .reindex(la.set_index('Victim Descent').sum().sort_values().index, axis=1)\\\n",
        "      .T.plot(kind='bar', stacked=True,\n",
        "              colormap=ListedColormap(sns.color_palette(\"GnBu\", 10)), \n",
        "              figsize=(12,6))"
      ],
      "execution_count": 0,
      "outputs": []
    },
    {
      "cell_type": "code",
      "metadata": {
        "id": "ByIQ2pvMfqV5",
        "colab_type": "code",
        "colab": {}
      },
      "source": [
        "# Age sorted by collision \n",
        "\n",
        "\n",
        "fig,ax = plt.subplots(figsize=(12,18))\n",
        "descending_order = la['Victim Age'].value_counts().sort_values(ascending=False).index\n",
        "sns.countplot(data=la,y=\"Victim Age\",order=descending_order)\n",
        "ax.set_title('Age of victim in collisions (2017 - 2018)');"
      ],
      "execution_count": 0,
      "outputs": []
    },
    {
      "cell_type": "code",
      "metadata": {
        "id": "nAVCsqyufqV6",
        "colab_type": "code",
        "colab": {}
      },
      "source": [
        "# Age sorted by collision, BINNED \n",
        "\n",
        "\n",
        "fig,ax = plt.subplots(figsize=(12,18))\n",
        "descending_order = la['Victim Age'].value_counts().sort_values(ascending=False).index\n",
        "sns.countplot(data=la,y=\"Victim Age\",order=descending_order)\n",
        "ax.set_title('Age of victim in collisions (2017 - 2018)');"
      ],
      "execution_count": 0,
      "outputs": []
    },
    {
      "cell_type": "code",
      "metadata": {
        "id": "ZmDcvGggfqV7",
        "colab_type": "code",
        "colab": {}
      },
      "source": [
        "# Collision by gender\n",
        "\n",
        "fig,ax = plt.subplots(figsize=(12,8))\n",
        "sns.countplot(data=la,x=\"Victim Sex\",palette='pastel', order=la['Victim Sex'].value_counts().iloc[:2].index)\n",
        "ax.set_title('Gender of victims in collisions (2017 - 2018)');"
      ],
      "execution_count": 0,
      "outputs": []
    },
    {
      "cell_type": "code",
      "metadata": {
        "id": "CCS6LRV3fqV9",
        "colab_type": "code",
        "colab": {}
      },
      "source": [
        "#Scatterplots\n",
        "\n",
        "import seaborn as sns\n",
        "sns.set(style=\"ticks\")\n",
        "\n",
        "#df = sns.load_dataset(\"iris\")\n",
        "#sns.pairplot(df, hue=\"species\")\n",
        "\n",
        "sns.pairplot(la, hue=\"Victim Age\")"
      ],
      "execution_count": 0,
      "outputs": []
    },
    {
      "cell_type": "code",
      "metadata": {
        "id": "XDC5GY0BfqV_",
        "colab_type": "code",
        "colab": {}
      },
      "source": [
        "# boxplots\n",
        "\n",
        "import seaborn as sns\n",
        "import matplotlib.pyplot as plt\n",
        "\n",
        "sns.set(style=\"ticks\")\n",
        "\n",
        "# Initialize the figure with a logarithmic x axis\n",
        "f, ax = plt.subplots(figsize=(7, 6))\n",
        "ax.set_xscale(\"log\")\n",
        "\n",
        "# Load the example planets dataset\n",
        "planets = sns.load_dataset(\"planets\")\n",
        "\n",
        "# Plot the orbital period with horizontal boxes\n",
        "sns.boxplot(x=\"distance\", y=\"method\", data=planets,\n",
        "            whis=\"range\", palette=\"vlag\")\n",
        "\n",
        "# Add in points to show each observation\n",
        "sns.swarmplot(x=\"distance\", y=\"method\", data=planets,\n",
        "              size=2, color=\".3\", linewidth=0)\n",
        "\n",
        "# Tweak the visual presentation\n",
        "ax.xaxis.grid(True)\n",
        "ax.set(ylabel=\"\")\n",
        "#sns.despine(trim=True, left=True)"
      ],
      "execution_count": 0,
      "outputs": []
    },
    {
      "cell_type": "code",
      "metadata": {
        "id": "kW49yuvwfqWA",
        "colab_type": "code",
        "colab": {}
      },
      "source": [
        "#line plots\n",
        "\n",
        "import seaborn as sns\n",
        "sns.set(style=\"darkgrid\")\n",
        "\n",
        "# Load an example dataset with long-form data\n",
        "fmri = sns.load_dataset(\"fmri\")\n",
        "\n",
        "# Plot the responses for different events and regions\n",
        "sns.lineplot(x=\"timepoint\", y=\"signal\",\n",
        "             hue=\"region\", style=\"event\",\n",
        "             data=fmri)"
      ],
      "execution_count": 0,
      "outputs": []
    },
    {
      "cell_type": "code",
      "metadata": {
        "id": "YAxBNNKQfqWB",
        "colab_type": "code",
        "colab": {}
      },
      "source": [
        "sns.lineplot(x='weekday', hue='Victim Age', data=la)"
      ],
      "execution_count": 0,
      "outputs": []
    },
    {
      "cell_type": "code",
      "metadata": {
        "id": "1AzcLIkBfqWC",
        "colab_type": "code",
        "colab": {}
      },
      "source": [
        "# accidents by race per hour, WIP\n",
        "\n",
        "accidents_hour_pt = la.pivot_table(index='Victim Descent', columns='hours', aggfunc='size')\n",
        "accidents_hour_pt = accidents_hour_pt.apply(lambda x: x / accidents_hour_pt.max(axis=1))\n",
        "plt.figure(figsize=(15,5))\n",
        "plt.title('Average Number of Accidents per Race and Hour', fontsize=14)\n",
        "sns.heatmap(accidents_hour_pt, cbar=True, annot=False, fmt=\".0f\");"
      ],
      "execution_count": 0,
      "outputs": []
    },
    {
      "cell_type": "code",
      "metadata": {
        "id": "8bA0-e8RfqWD",
        "colab_type": "code",
        "colab": {}
      },
      "source": [
        "# accidents by race per month, WIP\n",
        "accidents_month_pt = la.pivot_table(index='Victim Descent', columns='month', aggfunc='size')\n",
        "accidents_month_pt = accidents_month_pt.apply(lambda x: x / accidents_month_pt.max(axis=1))\n",
        "plt.figure(figsize=(15,5))\n",
        "plt.title('Average Number of Accidents per Race and Month', fontsize=14)\n",
        "sns.heatmap(accidents_month_pt, cbar=True, annot=False, fmt=\".0f\");"
      ],
      "execution_count": 0,
      "outputs": []
    },
    {
      "cell_type": "markdown",
      "metadata": {
        "id": "SZb3Xi1wLPWv",
        "colab_type": "text"
      },
      "source": [
        "This section includes code to downloads tweets from Twitter with hashtags related to Los Angeles traffic such as #LAtraffic. Hashtags in Twitter are preceded #with the # symbol and are used to group together people who have #similar interests so they can follow others or search based on these hashtags."
      ]
    },
    {
      "cell_type": "code",
      "metadata": {
        "id": "aaKweiAVMJoC",
        "colab_type": "code",
        "colab": {}
      },
      "source": [
        "from __future__ import print_function \n",
        "import tweepy\n",
        "import json\n",
        "import pymongo\n",
        "import folium\n",
        "from pymongo import MongoClient \n",
        "client = MongoClient()"
      ],
      "execution_count": 0,
      "outputs": []
    },
    {
      "cell_type": "code",
      "metadata": {
        "id": "iC33O2xhLHwq",
        "colab_type": "code",
        "colab": {}
      },
      "source": [
        "#Part 1 - MongoDB API to Twitter\n",
        "# MongoDB must be installed locally\n",
        "# and running a database called 'tweetsdb2'\n",
        "MONGO_HOST= 'mongodb://localhost/twitterdb2'"
      ],
      "execution_count": 0,
      "outputs": []
    },
    {
      "cell_type": "code",
      "metadata": {
        "id": "YGIzLp3SMIBj",
        "colab_type": "code",
        "colab": {}
      },
      "source": [
        "WORDS = ['#crash','#traffic','#latraffic','#LAtraffic','#LATraffic24','#LAtraffic24','#lacrash','#laaccident']"
      ],
      "execution_count": 0,
      "outputs": []
    },
    {
      "cell_type": "code",
      "metadata": {
        "id": "6DoO-i9ELre0",
        "colab_type": "code",
        "colab": {}
      },
      "source": [
        "CONSUMER_KEY = \"LwIB9fmdrqru5FwRc3ommTIQb\"\n",
        "CONSUMER_SECRET = \"OcSI7V76IBMy38Nbl7RSikcMMqzs2ewKmQQIUYJhEChloNVMEB\"\n",
        "ACCESS_TOKEN = \"28716312-H43y6kJb2mki2dV9hrVWrjymHpF1D9cA0kWX3kfWt\"\n",
        "ACCESS_TOKEN_SECRET = \"WDX2dkg3saxwVLFJKpZc5OobybgcsJb0mVvX199qoi55J\""
      ],
      "execution_count": 0,
      "outputs": []
    },
    {
      "cell_type": "code",
      "metadata": {
        "id": "U7pRu1DDMoX8",
        "colab_type": "code",
        "colab": {}
      },
      "source": [
        "#This is a class to access the Twitter Streaming API. \n",
        "class StreamListener(tweepy.StreamListener):   \n",
        "    def on_connect(self):\n",
        "        # Called initially to connect to the Streaming API\n",
        "            print(\"You are now connected to the streaming API.\")\n",
        " \n",
        "    def on_error(self, status_code):\n",
        "        # On error - if an error occurs, display the error / status code\n",
        "        print('An Error has occured: ' + repr(status_code))\n",
        "        return False\n",
        " \n",
        "    def on_data(self, data):\n",
        "        #This is the meat of the script...it connects to your mongoDB \n",
        "        #and stores the tweet\n",
        "        try:\n",
        "            client = MongoClient(MONGO_HOST)\n",
        "            \n",
        "            # Use twitterdb database. If it doesn't exist, it will \n",
        "            #be created.\n",
        "            db = client.twitterdb2\n",
        "                \n",
        "            # Decode the JSON from Twitter\n",
        "            datajson = json.loads(data)\n",
        "            \n",
        "            #grab the 'created_at' data from the Tweet to use for display\n",
        "            created_at = datajson['created_at']\n",
        " \n",
        "            #print out a message to the screen that we have collected a \n",
        "            #tweet\n",
        "            print(\"Tweet collected at \" + str(created_at))\n",
        "            \n",
        "            #insert the data into the mongoDB into a collection called \n",
        "            #twitter_search\n",
        "            #if twitter_search doesn't exist, it will be created.\n",
        "            db.twitter_search.insert(datajson)\n",
        "        except Exception as e:\n",
        "            print(e)"
      ],
      "execution_count": 0,
      "outputs": []
    },
    {
      "cell_type": "code",
      "metadata": {
        "id": "DFR1zV9QMtLv",
        "colab_type": "code",
        "outputId": "04b23c8d-d6e3-425f-f703-c2b23db09893",
        "colab": {
          "base_uri": "https://localhost:8080/",
          "height": 604
        }
      },
      "source": [
        "auth = tweepy.OAuthHandler(CONSUMER_KEY, CONSUMER_SECRET)\n",
        "auth.set_access_token(ACCESS_TOKEN, ACCESS_TOKEN_SECRET)\n",
        "#Set up the listener. The 'wait_on_rate_limit=True' is needed to help \n",
        "#with Twitter API rate limiting.\n",
        "listener = StreamListener(api=tweepy.API(wait_on_rate_limit=True)) \n",
        "streamer = tweepy.Stream(auth=auth, listener=listener)\n",
        "print(\"Tracking: \" + str(WORDS))\n",
        "streamer.filter(track=WORDS)"
      ],
      "execution_count": 0,
      "outputs": [
        {
          "output_type": "stream",
          "text": [
            "Tracking: ['#crash', '#traffic', '#latraffic', '#LAtraffic', '#LATraffic24', '#LAtraffic24', '#lacrash', '#laaccident']\n",
            "You are now connected to the streaming API.\n",
            "Tweet collected at Mon Aug 26 04:38:51 +0000 2019\n"
          ],
          "name": "stdout"
        },
        {
          "output_type": "stream",
          "text": [
            "/anaconda3/lib/python3.7/site-packages/ipykernel_launcher.py:34: DeprecationWarning:\n",
            "\n",
            "insert is deprecated. Use insert_one or insert_many instead.\n",
            "\n"
          ],
          "name": "stderr"
        },
        {
          "output_type": "stream",
          "text": [
            "localhost:27017: [Errno 61] Connection refused\n",
            "Tweet collected at Mon Aug 26 04:39:14 +0000 2019\n",
            "localhost:27017: [Errno 61] Connection refused\n",
            "Tweet collected at Mon Aug 26 04:39:17 +0000 2019\n",
            "localhost:27017: [Errno 61] Connection refused\n",
            "Tweet collected at Mon Aug 26 04:39:18 +0000 2019\n",
            "localhost:27017: [Errno 61] Connection refused\n",
            "Tweet collected at Mon Aug 26 04:40:15 +0000 2019\n"
          ],
          "name": "stdout"
        },
        {
          "output_type": "error",
          "ename": "KeyboardInterrupt",
          "evalue": "ignored",
          "traceback": [
            "\u001b[0;31m---------------------------------------------------------------------------\u001b[0m",
            "\u001b[0;31mKeyboardInterrupt\u001b[0m                         Traceback (most recent call last)",
            "\u001b[0;32m<ipython-input-327-0abd5ced8065>\u001b[0m in \u001b[0;36m<module>\u001b[0;34m\u001b[0m\n\u001b[1;32m      6\u001b[0m \u001b[0mstreamer\u001b[0m \u001b[0;34m=\u001b[0m \u001b[0mtweepy\u001b[0m\u001b[0;34m.\u001b[0m\u001b[0mStream\u001b[0m\u001b[0;34m(\u001b[0m\u001b[0mauth\u001b[0m\u001b[0;34m=\u001b[0m\u001b[0mauth\u001b[0m\u001b[0;34m,\u001b[0m \u001b[0mlistener\u001b[0m\u001b[0;34m=\u001b[0m\u001b[0mlistener\u001b[0m\u001b[0;34m)\u001b[0m\u001b[0;34m\u001b[0m\u001b[0;34m\u001b[0m\u001b[0m\n\u001b[1;32m      7\u001b[0m \u001b[0mprint\u001b[0m\u001b[0;34m(\u001b[0m\u001b[0;34m\"Tracking: \"\u001b[0m \u001b[0;34m+\u001b[0m \u001b[0mstr\u001b[0m\u001b[0;34m(\u001b[0m\u001b[0mWORDS\u001b[0m\u001b[0;34m)\u001b[0m\u001b[0;34m)\u001b[0m\u001b[0;34m\u001b[0m\u001b[0;34m\u001b[0m\u001b[0m\n\u001b[0;32m----> 8\u001b[0;31m \u001b[0mstreamer\u001b[0m\u001b[0;34m.\u001b[0m\u001b[0mfilter\u001b[0m\u001b[0;34m(\u001b[0m\u001b[0mtrack\u001b[0m\u001b[0;34m=\u001b[0m\u001b[0mWORDS\u001b[0m\u001b[0;34m)\u001b[0m\u001b[0;34m\u001b[0m\u001b[0;34m\u001b[0m\u001b[0m\n\u001b[0m",
            "\u001b[0;32m/anaconda3/lib/python3.7/site-packages/tweepy/streaming.py\u001b[0m in \u001b[0;36mfilter\u001b[0;34m(self, follow, track, is_async, locations, stall_warnings, languages, encoding, filter_level)\u001b[0m\n\u001b[1;32m    451\u001b[0m             \u001b[0mself\u001b[0m\u001b[0;34m.\u001b[0m\u001b[0mbody\u001b[0m\u001b[0;34m[\u001b[0m\u001b[0;34m'filter_level'\u001b[0m\u001b[0;34m]\u001b[0m \u001b[0;34m=\u001b[0m \u001b[0mfilter_level\u001b[0m\u001b[0;34m.\u001b[0m\u001b[0mencode\u001b[0m\u001b[0;34m(\u001b[0m\u001b[0mencoding\u001b[0m\u001b[0;34m)\u001b[0m\u001b[0;34m\u001b[0m\u001b[0;34m\u001b[0m\u001b[0m\n\u001b[1;32m    452\u001b[0m         \u001b[0mself\u001b[0m\u001b[0;34m.\u001b[0m\u001b[0msession\u001b[0m\u001b[0;34m.\u001b[0m\u001b[0mparams\u001b[0m \u001b[0;34m=\u001b[0m \u001b[0;34m{\u001b[0m\u001b[0;34m'delimited'\u001b[0m\u001b[0;34m:\u001b[0m \u001b[0;34m'length'\u001b[0m\u001b[0;34m}\u001b[0m\u001b[0;34m\u001b[0m\u001b[0;34m\u001b[0m\u001b[0m\n\u001b[0;32m--> 453\u001b[0;31m         \u001b[0mself\u001b[0m\u001b[0;34m.\u001b[0m\u001b[0m_start\u001b[0m\u001b[0;34m(\u001b[0m\u001b[0mis_async\u001b[0m\u001b[0;34m)\u001b[0m\u001b[0;34m\u001b[0m\u001b[0;34m\u001b[0m\u001b[0m\n\u001b[0m\u001b[1;32m    454\u001b[0m \u001b[0;34m\u001b[0m\u001b[0m\n\u001b[1;32m    455\u001b[0m     def sitestream(self, follow, stall_warnings=False,\n",
            "\u001b[0;32m/anaconda3/lib/python3.7/site-packages/tweepy/streaming.py\u001b[0m in \u001b[0;36m_start\u001b[0;34m(self, is_async)\u001b[0m\n\u001b[1;32m    366\u001b[0m             \u001b[0mself\u001b[0m\u001b[0;34m.\u001b[0m\u001b[0m_thread\u001b[0m\u001b[0;34m.\u001b[0m\u001b[0mstart\u001b[0m\u001b[0;34m(\u001b[0m\u001b[0;34m)\u001b[0m\u001b[0;34m\u001b[0m\u001b[0;34m\u001b[0m\u001b[0m\n\u001b[1;32m    367\u001b[0m         \u001b[0;32melse\u001b[0m\u001b[0;34m:\u001b[0m\u001b[0;34m\u001b[0m\u001b[0;34m\u001b[0m\u001b[0m\n\u001b[0;32m--> 368\u001b[0;31m             \u001b[0mself\u001b[0m\u001b[0;34m.\u001b[0m\u001b[0m_run\u001b[0m\u001b[0;34m(\u001b[0m\u001b[0;34m)\u001b[0m\u001b[0;34m\u001b[0m\u001b[0;34m\u001b[0m\u001b[0m\n\u001b[0m\u001b[1;32m    369\u001b[0m \u001b[0;34m\u001b[0m\u001b[0m\n\u001b[1;32m    370\u001b[0m     \u001b[0;32mdef\u001b[0m \u001b[0mon_closed\u001b[0m\u001b[0;34m(\u001b[0m\u001b[0mself\u001b[0m\u001b[0;34m,\u001b[0m \u001b[0mresp\u001b[0m\u001b[0;34m)\u001b[0m\u001b[0;34m:\u001b[0m\u001b[0;34m\u001b[0m\u001b[0;34m\u001b[0m\u001b[0m\n",
            "\u001b[0;32m/anaconda3/lib/python3.7/site-packages/tweepy/streaming.py\u001b[0m in \u001b[0;36m_run\u001b[0;34m(self)\u001b[0m\n\u001b[1;32m    267\u001b[0m                     \u001b[0mself\u001b[0m\u001b[0;34m.\u001b[0m\u001b[0msnooze_time\u001b[0m \u001b[0;34m=\u001b[0m \u001b[0mself\u001b[0m\u001b[0;34m.\u001b[0m\u001b[0msnooze_time_step\u001b[0m\u001b[0;34m\u001b[0m\u001b[0;34m\u001b[0m\u001b[0m\n\u001b[1;32m    268\u001b[0m                     \u001b[0mself\u001b[0m\u001b[0;34m.\u001b[0m\u001b[0mlistener\u001b[0m\u001b[0;34m.\u001b[0m\u001b[0mon_connect\u001b[0m\u001b[0;34m(\u001b[0m\u001b[0;34m)\u001b[0m\u001b[0;34m\u001b[0m\u001b[0;34m\u001b[0m\u001b[0m\n\u001b[0;32m--> 269\u001b[0;31m                     \u001b[0mself\u001b[0m\u001b[0;34m.\u001b[0m\u001b[0m_read_loop\u001b[0m\u001b[0;34m(\u001b[0m\u001b[0mresp\u001b[0m\u001b[0;34m)\u001b[0m\u001b[0;34m\u001b[0m\u001b[0;34m\u001b[0m\u001b[0m\n\u001b[0m\u001b[1;32m    270\u001b[0m             \u001b[0;32mexcept\u001b[0m \u001b[0;34m(\u001b[0m\u001b[0mTimeout\u001b[0m\u001b[0;34m,\u001b[0m \u001b[0mssl\u001b[0m\u001b[0;34m.\u001b[0m\u001b[0mSSLError\u001b[0m\u001b[0;34m)\u001b[0m \u001b[0;32mas\u001b[0m \u001b[0mexc\u001b[0m\u001b[0;34m:\u001b[0m\u001b[0;34m\u001b[0m\u001b[0;34m\u001b[0m\u001b[0m\n\u001b[1;32m    271\u001b[0m                 \u001b[0;31m# This is still necessary, as a SSLError can actually be\u001b[0m\u001b[0;34m\u001b[0m\u001b[0;34m\u001b[0m\u001b[0;34m\u001b[0m\u001b[0m\n",
            "\u001b[0;32m/anaconda3/lib/python3.7/site-packages/tweepy/streaming.py\u001b[0m in \u001b[0;36m_read_loop\u001b[0;34m(self, resp)\u001b[0m\n\u001b[1;32m    329\u001b[0m             \u001b[0mnext_status_obj\u001b[0m \u001b[0;34m=\u001b[0m \u001b[0mbuf\u001b[0m\u001b[0;34m.\u001b[0m\u001b[0mread_len\u001b[0m\u001b[0;34m(\u001b[0m\u001b[0mlength\u001b[0m\u001b[0;34m)\u001b[0m\u001b[0;34m\u001b[0m\u001b[0;34m\u001b[0m\u001b[0m\n\u001b[1;32m    330\u001b[0m             \u001b[0;32mif\u001b[0m \u001b[0mself\u001b[0m\u001b[0;34m.\u001b[0m\u001b[0mrunning\u001b[0m \u001b[0;32mand\u001b[0m \u001b[0mnext_status_obj\u001b[0m\u001b[0;34m:\u001b[0m\u001b[0;34m\u001b[0m\u001b[0;34m\u001b[0m\u001b[0m\n\u001b[0;32m--> 331\u001b[0;31m                 \u001b[0mself\u001b[0m\u001b[0;34m.\u001b[0m\u001b[0m_data\u001b[0m\u001b[0;34m(\u001b[0m\u001b[0mnext_status_obj\u001b[0m\u001b[0;34m)\u001b[0m\u001b[0;34m\u001b[0m\u001b[0;34m\u001b[0m\u001b[0m\n\u001b[0m\u001b[1;32m    332\u001b[0m \u001b[0;34m\u001b[0m\u001b[0m\n\u001b[1;32m    333\u001b[0m             \u001b[0;31m# # Note: keep-alive newlines might be inserted before each length value.\u001b[0m\u001b[0;34m\u001b[0m\u001b[0;34m\u001b[0m\u001b[0;34m\u001b[0m\u001b[0m\n",
            "\u001b[0;32m/anaconda3/lib/python3.7/site-packages/tweepy/streaming.py\u001b[0m in \u001b[0;36m_data\u001b[0;34m(self, data)\u001b[0m\n\u001b[1;32m    301\u001b[0m \u001b[0;34m\u001b[0m\u001b[0m\n\u001b[1;32m    302\u001b[0m     \u001b[0;32mdef\u001b[0m \u001b[0m_data\u001b[0m\u001b[0;34m(\u001b[0m\u001b[0mself\u001b[0m\u001b[0;34m,\u001b[0m \u001b[0mdata\u001b[0m\u001b[0;34m)\u001b[0m\u001b[0;34m:\u001b[0m\u001b[0;34m\u001b[0m\u001b[0;34m\u001b[0m\u001b[0m\n\u001b[0;32m--> 303\u001b[0;31m         \u001b[0;32mif\u001b[0m \u001b[0mself\u001b[0m\u001b[0;34m.\u001b[0m\u001b[0mlistener\u001b[0m\u001b[0;34m.\u001b[0m\u001b[0mon_data\u001b[0m\u001b[0;34m(\u001b[0m\u001b[0mdata\u001b[0m\u001b[0;34m)\u001b[0m \u001b[0;32mis\u001b[0m \u001b[0;32mFalse\u001b[0m\u001b[0;34m:\u001b[0m\u001b[0;34m\u001b[0m\u001b[0;34m\u001b[0m\u001b[0m\n\u001b[0m\u001b[1;32m    304\u001b[0m             \u001b[0mself\u001b[0m\u001b[0;34m.\u001b[0m\u001b[0mrunning\u001b[0m \u001b[0;34m=\u001b[0m \u001b[0;32mFalse\u001b[0m\u001b[0;34m\u001b[0m\u001b[0;34m\u001b[0m\u001b[0m\n\u001b[1;32m    305\u001b[0m \u001b[0;34m\u001b[0m\u001b[0m\n",
            "\u001b[0;32m<ipython-input-326-190673b2e891>\u001b[0m in \u001b[0;36mon_data\u001b[0;34m(self, data)\u001b[0m\n\u001b[1;32m     32\u001b[0m             \u001b[0;31m#twitter_search\u001b[0m\u001b[0;34m\u001b[0m\u001b[0;34m\u001b[0m\u001b[0;34m\u001b[0m\u001b[0m\n\u001b[1;32m     33\u001b[0m             \u001b[0;31m#if twitter_search doesn't exist, it will be created.\u001b[0m\u001b[0;34m\u001b[0m\u001b[0;34m\u001b[0m\u001b[0;34m\u001b[0m\u001b[0m\n\u001b[0;32m---> 34\u001b[0;31m             \u001b[0mdb\u001b[0m\u001b[0;34m.\u001b[0m\u001b[0mtwitter_search\u001b[0m\u001b[0;34m.\u001b[0m\u001b[0minsert\u001b[0m\u001b[0;34m(\u001b[0m\u001b[0mdatajson\u001b[0m\u001b[0;34m)\u001b[0m\u001b[0;34m\u001b[0m\u001b[0;34m\u001b[0m\u001b[0m\n\u001b[0m\u001b[1;32m     35\u001b[0m         \u001b[0;32mexcept\u001b[0m \u001b[0mException\u001b[0m \u001b[0;32mas\u001b[0m \u001b[0me\u001b[0m\u001b[0;34m:\u001b[0m\u001b[0;34m\u001b[0m\u001b[0;34m\u001b[0m\u001b[0m\n\u001b[1;32m     36\u001b[0m             \u001b[0mprint\u001b[0m\u001b[0;34m(\u001b[0m\u001b[0me\u001b[0m\u001b[0;34m)\u001b[0m\u001b[0;34m\u001b[0m\u001b[0;34m\u001b[0m\u001b[0m\n",
            "\u001b[0;32m/anaconda3/lib/python3.7/site-packages/pymongo/collection.py\u001b[0m in \u001b[0;36minsert\u001b[0;34m(self, doc_or_docs, manipulate, check_keys, continue_on_error, **kwargs)\u001b[0m\n\u001b[1;32m   3193\u001b[0m             \u001b[0mwrite_concern\u001b[0m \u001b[0;34m=\u001b[0m \u001b[0mWriteConcern\u001b[0m\u001b[0;34m(\u001b[0m\u001b[0;34m**\u001b[0m\u001b[0mkwargs\u001b[0m\u001b[0;34m)\u001b[0m\u001b[0;34m\u001b[0m\u001b[0;34m\u001b[0m\u001b[0m\n\u001b[1;32m   3194\u001b[0m         return self._insert(doc_or_docs, not continue_on_error,\n\u001b[0;32m-> 3195\u001b[0;31m                             check_keys, manipulate, write_concern)\n\u001b[0m\u001b[1;32m   3196\u001b[0m \u001b[0;34m\u001b[0m\u001b[0m\n\u001b[1;32m   3197\u001b[0m     def update(self, spec, document, upsert=False, manipulate=False,\n",
            "\u001b[0;32m/anaconda3/lib/python3.7/site-packages/pymongo/collection.py\u001b[0m in \u001b[0;36m_insert\u001b[0;34m(self, docs, ordered, check_keys, manipulate, write_concern, op_id, bypass_doc_val, session)\u001b[0m\n\u001b[1;32m    612\u001b[0m             return self._insert_one(\n\u001b[1;32m    613\u001b[0m                 \u001b[0mdocs\u001b[0m\u001b[0;34m,\u001b[0m \u001b[0mordered\u001b[0m\u001b[0;34m,\u001b[0m \u001b[0mcheck_keys\u001b[0m\u001b[0;34m,\u001b[0m \u001b[0mmanipulate\u001b[0m\u001b[0;34m,\u001b[0m \u001b[0mwrite_concern\u001b[0m\u001b[0;34m,\u001b[0m \u001b[0mop_id\u001b[0m\u001b[0;34m,\u001b[0m\u001b[0;34m\u001b[0m\u001b[0;34m\u001b[0m\u001b[0m\n\u001b[0;32m--> 614\u001b[0;31m                 bypass_doc_val, session)\n\u001b[0m\u001b[1;32m    615\u001b[0m \u001b[0;34m\u001b[0m\u001b[0m\n\u001b[1;32m    616\u001b[0m         \u001b[0mids\u001b[0m \u001b[0;34m=\u001b[0m \u001b[0;34m[\u001b[0m\u001b[0;34m]\u001b[0m\u001b[0;34m\u001b[0m\u001b[0;34m\u001b[0m\u001b[0m\n",
            "\u001b[0;32m/anaconda3/lib/python3.7/site-packages/pymongo/collection.py\u001b[0m in \u001b[0;36m_insert_one\u001b[0;34m(self, doc, ordered, check_keys, manipulate, write_concern, op_id, bypass_doc_val, session)\u001b[0m\n\u001b[1;32m    600\u001b[0m \u001b[0;34m\u001b[0m\u001b[0m\n\u001b[1;32m    601\u001b[0m         self.__database.client._retryable_write(\n\u001b[0;32m--> 602\u001b[0;31m             acknowledged, _insert_command, session)\n\u001b[0m\u001b[1;32m    603\u001b[0m \u001b[0;34m\u001b[0m\u001b[0m\n\u001b[1;32m    604\u001b[0m         \u001b[0;32mif\u001b[0m \u001b[0;32mnot\u001b[0m \u001b[0misinstance\u001b[0m\u001b[0;34m(\u001b[0m\u001b[0mdoc\u001b[0m\u001b[0;34m,\u001b[0m \u001b[0mRawBSONDocument\u001b[0m\u001b[0;34m)\u001b[0m\u001b[0;34m:\u001b[0m\u001b[0;34m\u001b[0m\u001b[0;34m\u001b[0m\u001b[0m\n",
            "\u001b[0;32m/anaconda3/lib/python3.7/site-packages/pymongo/mongo_client.py\u001b[0m in \u001b[0;36m_retryable_write\u001b[0;34m(self, retryable, func, session)\u001b[0m\n\u001b[1;32m   1277\u001b[0m     \u001b[0;32mdef\u001b[0m \u001b[0m_retryable_write\u001b[0m\u001b[0;34m(\u001b[0m\u001b[0mself\u001b[0m\u001b[0;34m,\u001b[0m \u001b[0mretryable\u001b[0m\u001b[0;34m,\u001b[0m \u001b[0mfunc\u001b[0m\u001b[0;34m,\u001b[0m \u001b[0msession\u001b[0m\u001b[0;34m)\u001b[0m\u001b[0;34m:\u001b[0m\u001b[0;34m\u001b[0m\u001b[0;34m\u001b[0m\u001b[0m\n\u001b[1;32m   1278\u001b[0m         \u001b[0;34m\"\"\"Internal retryable write helper.\"\"\"\u001b[0m\u001b[0;34m\u001b[0m\u001b[0;34m\u001b[0m\u001b[0m\n\u001b[0;32m-> 1279\u001b[0;31m         \u001b[0;32mwith\u001b[0m \u001b[0mself\u001b[0m\u001b[0;34m.\u001b[0m\u001b[0m_tmp_session\u001b[0m\u001b[0;34m(\u001b[0m\u001b[0msession\u001b[0m\u001b[0;34m)\u001b[0m \u001b[0;32mas\u001b[0m \u001b[0ms\u001b[0m\u001b[0;34m:\u001b[0m\u001b[0;34m\u001b[0m\u001b[0;34m\u001b[0m\u001b[0m\n\u001b[0m\u001b[1;32m   1280\u001b[0m             \u001b[0;32mreturn\u001b[0m \u001b[0mself\u001b[0m\u001b[0;34m.\u001b[0m\u001b[0m_retry_with_session\u001b[0m\u001b[0;34m(\u001b[0m\u001b[0mretryable\u001b[0m\u001b[0;34m,\u001b[0m \u001b[0mfunc\u001b[0m\u001b[0;34m,\u001b[0m \u001b[0ms\u001b[0m\u001b[0;34m,\u001b[0m \u001b[0;32mNone\u001b[0m\u001b[0;34m)\u001b[0m\u001b[0;34m\u001b[0m\u001b[0;34m\u001b[0m\u001b[0m\n\u001b[1;32m   1281\u001b[0m \u001b[0;34m\u001b[0m\u001b[0m\n",
            "\u001b[0;32m/anaconda3/lib/python3.7/contextlib.py\u001b[0m in \u001b[0;36m__enter__\u001b[0;34m(self)\u001b[0m\n\u001b[1;32m    110\u001b[0m         \u001b[0;32mdel\u001b[0m \u001b[0mself\u001b[0m\u001b[0;34m.\u001b[0m\u001b[0margs\u001b[0m\u001b[0;34m,\u001b[0m \u001b[0mself\u001b[0m\u001b[0;34m.\u001b[0m\u001b[0mkwds\u001b[0m\u001b[0;34m,\u001b[0m \u001b[0mself\u001b[0m\u001b[0;34m.\u001b[0m\u001b[0mfunc\u001b[0m\u001b[0;34m\u001b[0m\u001b[0;34m\u001b[0m\u001b[0m\n\u001b[1;32m    111\u001b[0m         \u001b[0;32mtry\u001b[0m\u001b[0;34m:\u001b[0m\u001b[0;34m\u001b[0m\u001b[0;34m\u001b[0m\u001b[0m\n\u001b[0;32m--> 112\u001b[0;31m             \u001b[0;32mreturn\u001b[0m \u001b[0mnext\u001b[0m\u001b[0;34m(\u001b[0m\u001b[0mself\u001b[0m\u001b[0;34m.\u001b[0m\u001b[0mgen\u001b[0m\u001b[0;34m)\u001b[0m\u001b[0;34m\u001b[0m\u001b[0;34m\u001b[0m\u001b[0m\n\u001b[0m\u001b[1;32m    113\u001b[0m         \u001b[0;32mexcept\u001b[0m \u001b[0mStopIteration\u001b[0m\u001b[0;34m:\u001b[0m\u001b[0;34m\u001b[0m\u001b[0;34m\u001b[0m\u001b[0m\n\u001b[1;32m    114\u001b[0m             \u001b[0;32mraise\u001b[0m \u001b[0mRuntimeError\u001b[0m\u001b[0;34m(\u001b[0m\u001b[0;34m\"generator didn't yield\"\u001b[0m\u001b[0;34m)\u001b[0m \u001b[0;32mfrom\u001b[0m \u001b[0;32mNone\u001b[0m\u001b[0;34m\u001b[0m\u001b[0;34m\u001b[0m\u001b[0m\n",
            "\u001b[0;32m/anaconda3/lib/python3.7/site-packages/pymongo/mongo_client.py\u001b[0m in \u001b[0;36m_tmp_session\u001b[0;34m(self, session, close)\u001b[0m\n\u001b[1;32m   1609\u001b[0m             \u001b[0;32mreturn\u001b[0m\u001b[0;34m\u001b[0m\u001b[0;34m\u001b[0m\u001b[0m\n\u001b[1;32m   1610\u001b[0m \u001b[0;34m\u001b[0m\u001b[0m\n\u001b[0;32m-> 1611\u001b[0;31m         \u001b[0ms\u001b[0m \u001b[0;34m=\u001b[0m \u001b[0mself\u001b[0m\u001b[0;34m.\u001b[0m\u001b[0m_ensure_session\u001b[0m\u001b[0;34m(\u001b[0m\u001b[0msession\u001b[0m\u001b[0;34m)\u001b[0m\u001b[0;34m\u001b[0m\u001b[0;34m\u001b[0m\u001b[0m\n\u001b[0m\u001b[1;32m   1612\u001b[0m         \u001b[0;32mif\u001b[0m \u001b[0ms\u001b[0m \u001b[0;32mand\u001b[0m \u001b[0mclose\u001b[0m\u001b[0;34m:\u001b[0m\u001b[0;34m\u001b[0m\u001b[0;34m\u001b[0m\u001b[0m\n\u001b[1;32m   1613\u001b[0m             \u001b[0;32mwith\u001b[0m \u001b[0ms\u001b[0m\u001b[0;34m:\u001b[0m\u001b[0;34m\u001b[0m\u001b[0;34m\u001b[0m\u001b[0m\n",
            "\u001b[0;32m/anaconda3/lib/python3.7/site-packages/pymongo/mongo_client.py\u001b[0m in \u001b[0;36m_ensure_session\u001b[0;34m(self, session)\u001b[0m\n\u001b[1;32m   1596\u001b[0m             \u001b[0;31m# Don't make implicit sessions causally consistent. Applications\u001b[0m\u001b[0;34m\u001b[0m\u001b[0;34m\u001b[0m\u001b[0;34m\u001b[0m\u001b[0m\n\u001b[1;32m   1597\u001b[0m             \u001b[0;31m# should always opt-in.\u001b[0m\u001b[0;34m\u001b[0m\u001b[0;34m\u001b[0m\u001b[0;34m\u001b[0m\u001b[0m\n\u001b[0;32m-> 1598\u001b[0;31m             \u001b[0;32mreturn\u001b[0m \u001b[0mself\u001b[0m\u001b[0;34m.\u001b[0m\u001b[0m__start_session\u001b[0m\u001b[0;34m(\u001b[0m\u001b[0;32mTrue\u001b[0m\u001b[0;34m,\u001b[0m \u001b[0mcausal_consistency\u001b[0m\u001b[0;34m=\u001b[0m\u001b[0;32mFalse\u001b[0m\u001b[0;34m)\u001b[0m\u001b[0;34m\u001b[0m\u001b[0;34m\u001b[0m\u001b[0m\n\u001b[0m\u001b[1;32m   1599\u001b[0m         \u001b[0;32mexcept\u001b[0m \u001b[0;34m(\u001b[0m\u001b[0mConfigurationError\u001b[0m\u001b[0;34m,\u001b[0m \u001b[0mInvalidOperation\u001b[0m\u001b[0;34m)\u001b[0m\u001b[0;34m:\u001b[0m\u001b[0;34m\u001b[0m\u001b[0;34m\u001b[0m\u001b[0m\n\u001b[1;32m   1600\u001b[0m             \u001b[0;31m# Sessions not supported, or multiple users authenticated.\u001b[0m\u001b[0;34m\u001b[0m\u001b[0;34m\u001b[0m\u001b[0;34m\u001b[0m\u001b[0m\n",
            "\u001b[0;32m/anaconda3/lib/python3.7/site-packages/pymongo/mongo_client.py\u001b[0m in \u001b[0;36m__start_session\u001b[0;34m(self, implicit, **kwargs)\u001b[0m\n\u001b[1;32m   1549\u001b[0m \u001b[0;34m\u001b[0m\u001b[0m\n\u001b[1;32m   1550\u001b[0m         \u001b[0;31m# Raises ConfigurationError if sessions are not supported.\u001b[0m\u001b[0;34m\u001b[0m\u001b[0;34m\u001b[0m\u001b[0;34m\u001b[0m\u001b[0m\n\u001b[0;32m-> 1551\u001b[0;31m         \u001b[0mserver_session\u001b[0m \u001b[0;34m=\u001b[0m \u001b[0mself\u001b[0m\u001b[0;34m.\u001b[0m\u001b[0m_get_server_session\u001b[0m\u001b[0;34m(\u001b[0m\u001b[0;34m)\u001b[0m\u001b[0;34m\u001b[0m\u001b[0;34m\u001b[0m\u001b[0m\n\u001b[0m\u001b[1;32m   1552\u001b[0m         \u001b[0mopts\u001b[0m \u001b[0;34m=\u001b[0m \u001b[0mclient_session\u001b[0m\u001b[0;34m.\u001b[0m\u001b[0mSessionOptions\u001b[0m\u001b[0;34m(\u001b[0m\u001b[0;34m**\u001b[0m\u001b[0mkwargs\u001b[0m\u001b[0;34m)\u001b[0m\u001b[0;34m\u001b[0m\u001b[0;34m\u001b[0m\u001b[0m\n\u001b[1;32m   1553\u001b[0m         return client_session.ClientSession(\n",
            "\u001b[0;32m/anaconda3/lib/python3.7/site-packages/pymongo/mongo_client.py\u001b[0m in \u001b[0;36m_get_server_session\u001b[0;34m(self)\u001b[0m\n\u001b[1;32m   1582\u001b[0m     \u001b[0;32mdef\u001b[0m \u001b[0m_get_server_session\u001b[0m\u001b[0;34m(\u001b[0m\u001b[0mself\u001b[0m\u001b[0;34m)\u001b[0m\u001b[0;34m:\u001b[0m\u001b[0;34m\u001b[0m\u001b[0;34m\u001b[0m\u001b[0m\n\u001b[1;32m   1583\u001b[0m         \u001b[0;34m\"\"\"Internal: start or resume a _ServerSession.\"\"\"\u001b[0m\u001b[0;34m\u001b[0m\u001b[0;34m\u001b[0m\u001b[0m\n\u001b[0;32m-> 1584\u001b[0;31m         \u001b[0;32mreturn\u001b[0m \u001b[0mself\u001b[0m\u001b[0;34m.\u001b[0m\u001b[0m_topology\u001b[0m\u001b[0;34m.\u001b[0m\u001b[0mget_server_session\u001b[0m\u001b[0;34m(\u001b[0m\u001b[0;34m)\u001b[0m\u001b[0;34m\u001b[0m\u001b[0;34m\u001b[0m\u001b[0m\n\u001b[0m\u001b[1;32m   1585\u001b[0m \u001b[0;34m\u001b[0m\u001b[0m\n\u001b[1;32m   1586\u001b[0m     \u001b[0;32mdef\u001b[0m \u001b[0m_return_server_session\u001b[0m\u001b[0;34m(\u001b[0m\u001b[0mself\u001b[0m\u001b[0;34m,\u001b[0m \u001b[0mserver_session\u001b[0m\u001b[0;34m,\u001b[0m \u001b[0mlock\u001b[0m\u001b[0;34m)\u001b[0m\u001b[0;34m:\u001b[0m\u001b[0;34m\u001b[0m\u001b[0;34m\u001b[0m\u001b[0m\n",
            "\u001b[0;32m/anaconda3/lib/python3.7/site-packages/pymongo/topology.py\u001b[0m in \u001b[0;36mget_server_session\u001b[0;34m(self)\u001b[0m\n\u001b[1;32m    427\u001b[0m                             \u001b[0many_server_selector\u001b[0m\u001b[0;34m,\u001b[0m\u001b[0;34m\u001b[0m\u001b[0;34m\u001b[0m\u001b[0m\n\u001b[1;32m    428\u001b[0m                             \u001b[0mself\u001b[0m\u001b[0;34m.\u001b[0m\u001b[0m_settings\u001b[0m\u001b[0;34m.\u001b[0m\u001b[0mserver_selection_timeout\u001b[0m\u001b[0;34m,\u001b[0m\u001b[0;34m\u001b[0m\u001b[0;34m\u001b[0m\u001b[0m\n\u001b[0;32m--> 429\u001b[0;31m                             None)\n\u001b[0m\u001b[1;32m    430\u001b[0m                 \u001b[0;32melif\u001b[0m \u001b[0;32mnot\u001b[0m \u001b[0mself\u001b[0m\u001b[0;34m.\u001b[0m\u001b[0m_description\u001b[0m\u001b[0;34m.\u001b[0m\u001b[0mreadable_servers\u001b[0m\u001b[0;34m:\u001b[0m\u001b[0;34m\u001b[0m\u001b[0;34m\u001b[0m\u001b[0m\n\u001b[1;32m    431\u001b[0m                     self._select_servers_loop(\n",
            "\u001b[0;32m/anaconda3/lib/python3.7/site-packages/pymongo/topology.py\u001b[0m in \u001b[0;36m_select_servers_loop\u001b[0;34m(self, selector, timeout, address)\u001b[0m\n\u001b[1;32m    207\u001b[0m             \u001b[0;31m# came after our most recent apply_selector call, since we've\u001b[0m\u001b[0;34m\u001b[0m\u001b[0;34m\u001b[0m\u001b[0;34m\u001b[0m\u001b[0m\n\u001b[1;32m    208\u001b[0m             \u001b[0;31m# held the lock until now.\u001b[0m\u001b[0;34m\u001b[0m\u001b[0;34m\u001b[0m\u001b[0;34m\u001b[0m\u001b[0m\n\u001b[0;32m--> 209\u001b[0;31m             \u001b[0mself\u001b[0m\u001b[0;34m.\u001b[0m\u001b[0m_condition\u001b[0m\u001b[0;34m.\u001b[0m\u001b[0mwait\u001b[0m\u001b[0;34m(\u001b[0m\u001b[0mcommon\u001b[0m\u001b[0;34m.\u001b[0m\u001b[0mMIN_HEARTBEAT_INTERVAL\u001b[0m\u001b[0;34m)\u001b[0m\u001b[0;34m\u001b[0m\u001b[0;34m\u001b[0m\u001b[0m\n\u001b[0m\u001b[1;32m    210\u001b[0m             \u001b[0mself\u001b[0m\u001b[0;34m.\u001b[0m\u001b[0m_description\u001b[0m\u001b[0;34m.\u001b[0m\u001b[0mcheck_compatible\u001b[0m\u001b[0;34m(\u001b[0m\u001b[0;34m)\u001b[0m\u001b[0;34m\u001b[0m\u001b[0;34m\u001b[0m\u001b[0m\n\u001b[1;32m    211\u001b[0m             \u001b[0mnow\u001b[0m \u001b[0;34m=\u001b[0m \u001b[0m_time\u001b[0m\u001b[0;34m(\u001b[0m\u001b[0;34m)\u001b[0m\u001b[0;34m\u001b[0m\u001b[0;34m\u001b[0m\u001b[0m\n",
            "\u001b[0;32m/anaconda3/lib/python3.7/threading.py\u001b[0m in \u001b[0;36mwait\u001b[0;34m(self, timeout)\u001b[0m\n\u001b[1;32m    298\u001b[0m             \u001b[0;32melse\u001b[0m\u001b[0;34m:\u001b[0m\u001b[0;34m\u001b[0m\u001b[0;34m\u001b[0m\u001b[0m\n\u001b[1;32m    299\u001b[0m                 \u001b[0;32mif\u001b[0m \u001b[0mtimeout\u001b[0m \u001b[0;34m>\u001b[0m \u001b[0;36m0\u001b[0m\u001b[0;34m:\u001b[0m\u001b[0;34m\u001b[0m\u001b[0;34m\u001b[0m\u001b[0m\n\u001b[0;32m--> 300\u001b[0;31m                     \u001b[0mgotit\u001b[0m \u001b[0;34m=\u001b[0m \u001b[0mwaiter\u001b[0m\u001b[0;34m.\u001b[0m\u001b[0macquire\u001b[0m\u001b[0;34m(\u001b[0m\u001b[0;32mTrue\u001b[0m\u001b[0;34m,\u001b[0m \u001b[0mtimeout\u001b[0m\u001b[0;34m)\u001b[0m\u001b[0;34m\u001b[0m\u001b[0;34m\u001b[0m\u001b[0m\n\u001b[0m\u001b[1;32m    301\u001b[0m                 \u001b[0;32melse\u001b[0m\u001b[0;34m:\u001b[0m\u001b[0;34m\u001b[0m\u001b[0;34m\u001b[0m\u001b[0m\n\u001b[1;32m    302\u001b[0m                     \u001b[0mgotit\u001b[0m \u001b[0;34m=\u001b[0m \u001b[0mwaiter\u001b[0m\u001b[0;34m.\u001b[0m\u001b[0macquire\u001b[0m\u001b[0;34m(\u001b[0m\u001b[0;32mFalse\u001b[0m\u001b[0;34m)\u001b[0m\u001b[0;34m\u001b[0m\u001b[0;34m\u001b[0m\u001b[0m\n",
            "\u001b[0;31mKeyboardInterrupt\u001b[0m: "
          ]
        }
      ]
    },
    {
      "cell_type": "code",
      "metadata": {
        "id": "7HwdZmGoMwgc",
        "colab_type": "code",
        "colab": {}
      },
      "source": [
        "#Part 2 - Mongo DB Queries\n",
        "#Stop the collection of tweets in the step above before running these queries"
      ],
      "execution_count": 0,
      "outputs": []
    },
    {
      "cell_type": "code",
      "metadata": {
        "id": "6RUDzDHqOdCz",
        "colab_type": "code",
        "colab": {}
      },
      "source": [
        "from __future__ import print_function\n",
        "import tweepy\n",
        "import json\n",
        "import pymongo\n",
        "import folium\n",
        "from pymongo import MongoClient\n",
        "client = MongoClient()"
      ],
      "execution_count": 0,
      "outputs": []
    },
    {
      "cell_type": "code",
      "metadata": {
        "id": "TQLMwYnYOrFh",
        "colab_type": "code",
        "outputId": "871a2d4f-9c2e-464c-815b-f25d32b04f4b",
        "colab": {
          "base_uri": "https://localhost:8080/",
          "height": 35
        }
      },
      "source": [
        "client = MongoClient('localhost', 27017)\n",
        "db = client['twitterdb2']\n",
        "collection2 = db['twitter_search']\n",
        "docs = collection2.find()\n",
        "db.twitterdb2.count_documents"
      ],
      "execution_count": 0,
      "outputs": [
        {
          "output_type": "execute_result",
          "data": {
            "text/plain": [
              "<bound method Collection.count_documents of Collection(Database(MongoClient(host=['localhost:27017'], document_class=dict, tz_aware=False, connect=True), 'twitterdb2'), 'twitterdb2')>"
            ]
          },
          "metadata": {
            "tags": []
          },
          "execution_count": 338
        }
      ]
    },
    {
      "cell_type": "code",
      "metadata": {
        "id": "iWGL7M8-Ou4o",
        "colab_type": "code",
        "outputId": "d1d249d2-37f9-471f-d436-1e6e86174719",
        "colab": {
          "base_uri": "https://localhost:8080/",
          "height": 327
        }
      },
      "source": [
        "for doc in docs:\n",
        "    print(doc)"
      ],
      "execution_count": 0,
      "outputs": [
        {
          "output_type": "error",
          "ename": "ServerSelectionTimeoutError",
          "evalue": "ignored",
          "traceback": [
            "\u001b[0;31m---------------------------------------------------------------------------\u001b[0m",
            "\u001b[0;31mServerSelectionTimeoutError\u001b[0m               Traceback (most recent call last)",
            "\u001b[0;32m<ipython-input-339-2ba94b536e48>\u001b[0m in \u001b[0;36m<module>\u001b[0;34m\u001b[0m\n\u001b[0;32m----> 1\u001b[0;31m \u001b[0;32mfor\u001b[0m \u001b[0mdoc\u001b[0m \u001b[0;32min\u001b[0m \u001b[0mdocs\u001b[0m\u001b[0;34m:\u001b[0m\u001b[0;34m\u001b[0m\u001b[0;34m\u001b[0m\u001b[0m\n\u001b[0m\u001b[1;32m      2\u001b[0m     \u001b[0mprint\u001b[0m\u001b[0;34m(\u001b[0m\u001b[0mdoc\u001b[0m\u001b[0;34m)\u001b[0m\u001b[0;34m\u001b[0m\u001b[0;34m\u001b[0m\u001b[0m\n",
            "\u001b[0;32m/anaconda3/lib/python3.7/site-packages/pymongo/cursor.py\u001b[0m in \u001b[0;36mnext\u001b[0;34m(self)\u001b[0m\n\u001b[1;32m   1223\u001b[0m         \u001b[0;32mif\u001b[0m \u001b[0mself\u001b[0m\u001b[0;34m.\u001b[0m\u001b[0m__empty\u001b[0m\u001b[0;34m:\u001b[0m\u001b[0;34m\u001b[0m\u001b[0;34m\u001b[0m\u001b[0m\n\u001b[1;32m   1224\u001b[0m             \u001b[0;32mraise\u001b[0m \u001b[0mStopIteration\u001b[0m\u001b[0;34m\u001b[0m\u001b[0;34m\u001b[0m\u001b[0m\n\u001b[0;32m-> 1225\u001b[0;31m         \u001b[0;32mif\u001b[0m \u001b[0mlen\u001b[0m\u001b[0;34m(\u001b[0m\u001b[0mself\u001b[0m\u001b[0;34m.\u001b[0m\u001b[0m__data\u001b[0m\u001b[0;34m)\u001b[0m \u001b[0;32mor\u001b[0m \u001b[0mself\u001b[0m\u001b[0;34m.\u001b[0m\u001b[0m_refresh\u001b[0m\u001b[0;34m(\u001b[0m\u001b[0;34m)\u001b[0m\u001b[0;34m:\u001b[0m\u001b[0;34m\u001b[0m\u001b[0;34m\u001b[0m\u001b[0m\n\u001b[0m\u001b[1;32m   1226\u001b[0m             \u001b[0;32mif\u001b[0m \u001b[0mself\u001b[0m\u001b[0;34m.\u001b[0m\u001b[0m__manipulate\u001b[0m\u001b[0;34m:\u001b[0m\u001b[0;34m\u001b[0m\u001b[0;34m\u001b[0m\u001b[0m\n\u001b[1;32m   1227\u001b[0m                 \u001b[0m_db\u001b[0m \u001b[0;34m=\u001b[0m \u001b[0mself\u001b[0m\u001b[0;34m.\u001b[0m\u001b[0m__collection\u001b[0m\u001b[0;34m.\u001b[0m\u001b[0mdatabase\u001b[0m\u001b[0;34m\u001b[0m\u001b[0;34m\u001b[0m\u001b[0m\n",
            "\u001b[0;32m/anaconda3/lib/python3.7/site-packages/pymongo/cursor.py\u001b[0m in \u001b[0;36m_refresh\u001b[0;34m(self)\u001b[0m\n\u001b[1;32m   1115\u001b[0m \u001b[0;34m\u001b[0m\u001b[0m\n\u001b[1;32m   1116\u001b[0m         \u001b[0;32mif\u001b[0m \u001b[0;32mnot\u001b[0m \u001b[0mself\u001b[0m\u001b[0;34m.\u001b[0m\u001b[0m__session\u001b[0m\u001b[0;34m:\u001b[0m\u001b[0;34m\u001b[0m\u001b[0;34m\u001b[0m\u001b[0m\n\u001b[0;32m-> 1117\u001b[0;31m             \u001b[0mself\u001b[0m\u001b[0;34m.\u001b[0m\u001b[0m__session\u001b[0m \u001b[0;34m=\u001b[0m \u001b[0mself\u001b[0m\u001b[0;34m.\u001b[0m\u001b[0m__collection\u001b[0m\u001b[0;34m.\u001b[0m\u001b[0mdatabase\u001b[0m\u001b[0;34m.\u001b[0m\u001b[0mclient\u001b[0m\u001b[0;34m.\u001b[0m\u001b[0m_ensure_session\u001b[0m\u001b[0;34m(\u001b[0m\u001b[0;34m)\u001b[0m\u001b[0;34m\u001b[0m\u001b[0;34m\u001b[0m\u001b[0m\n\u001b[0m\u001b[1;32m   1118\u001b[0m \u001b[0;34m\u001b[0m\u001b[0m\n\u001b[1;32m   1119\u001b[0m         \u001b[0;32mif\u001b[0m \u001b[0mself\u001b[0m\u001b[0;34m.\u001b[0m\u001b[0m__id\u001b[0m \u001b[0;32mis\u001b[0m \u001b[0;32mNone\u001b[0m\u001b[0;34m:\u001b[0m  \u001b[0;31m# Query\u001b[0m\u001b[0;34m\u001b[0m\u001b[0;34m\u001b[0m\u001b[0m\n",
            "\u001b[0;32m/anaconda3/lib/python3.7/site-packages/pymongo/mongo_client.py\u001b[0m in \u001b[0;36m_ensure_session\u001b[0;34m(self, session)\u001b[0m\n\u001b[1;32m   1596\u001b[0m             \u001b[0;31m# Don't make implicit sessions causally consistent. Applications\u001b[0m\u001b[0;34m\u001b[0m\u001b[0;34m\u001b[0m\u001b[0;34m\u001b[0m\u001b[0m\n\u001b[1;32m   1597\u001b[0m             \u001b[0;31m# should always opt-in.\u001b[0m\u001b[0;34m\u001b[0m\u001b[0;34m\u001b[0m\u001b[0;34m\u001b[0m\u001b[0m\n\u001b[0;32m-> 1598\u001b[0;31m             \u001b[0;32mreturn\u001b[0m \u001b[0mself\u001b[0m\u001b[0;34m.\u001b[0m\u001b[0m__start_session\u001b[0m\u001b[0;34m(\u001b[0m\u001b[0;32mTrue\u001b[0m\u001b[0;34m,\u001b[0m \u001b[0mcausal_consistency\u001b[0m\u001b[0;34m=\u001b[0m\u001b[0;32mFalse\u001b[0m\u001b[0;34m)\u001b[0m\u001b[0;34m\u001b[0m\u001b[0;34m\u001b[0m\u001b[0m\n\u001b[0m\u001b[1;32m   1599\u001b[0m         \u001b[0;32mexcept\u001b[0m \u001b[0;34m(\u001b[0m\u001b[0mConfigurationError\u001b[0m\u001b[0;34m,\u001b[0m \u001b[0mInvalidOperation\u001b[0m\u001b[0;34m)\u001b[0m\u001b[0;34m:\u001b[0m\u001b[0;34m\u001b[0m\u001b[0;34m\u001b[0m\u001b[0m\n\u001b[1;32m   1600\u001b[0m             \u001b[0;31m# Sessions not supported, or multiple users authenticated.\u001b[0m\u001b[0;34m\u001b[0m\u001b[0;34m\u001b[0m\u001b[0;34m\u001b[0m\u001b[0m\n",
            "\u001b[0;32m/anaconda3/lib/python3.7/site-packages/pymongo/mongo_client.py\u001b[0m in \u001b[0;36m__start_session\u001b[0;34m(self, implicit, **kwargs)\u001b[0m\n\u001b[1;32m   1549\u001b[0m \u001b[0;34m\u001b[0m\u001b[0m\n\u001b[1;32m   1550\u001b[0m         \u001b[0;31m# Raises ConfigurationError if sessions are not supported.\u001b[0m\u001b[0;34m\u001b[0m\u001b[0;34m\u001b[0m\u001b[0;34m\u001b[0m\u001b[0m\n\u001b[0;32m-> 1551\u001b[0;31m         \u001b[0mserver_session\u001b[0m \u001b[0;34m=\u001b[0m \u001b[0mself\u001b[0m\u001b[0;34m.\u001b[0m\u001b[0m_get_server_session\u001b[0m\u001b[0;34m(\u001b[0m\u001b[0;34m)\u001b[0m\u001b[0;34m\u001b[0m\u001b[0;34m\u001b[0m\u001b[0m\n\u001b[0m\u001b[1;32m   1552\u001b[0m         \u001b[0mopts\u001b[0m \u001b[0;34m=\u001b[0m \u001b[0mclient_session\u001b[0m\u001b[0;34m.\u001b[0m\u001b[0mSessionOptions\u001b[0m\u001b[0;34m(\u001b[0m\u001b[0;34m**\u001b[0m\u001b[0mkwargs\u001b[0m\u001b[0;34m)\u001b[0m\u001b[0;34m\u001b[0m\u001b[0;34m\u001b[0m\u001b[0m\n\u001b[1;32m   1553\u001b[0m         return client_session.ClientSession(\n",
            "\u001b[0;32m/anaconda3/lib/python3.7/site-packages/pymongo/mongo_client.py\u001b[0m in \u001b[0;36m_get_server_session\u001b[0;34m(self)\u001b[0m\n\u001b[1;32m   1582\u001b[0m     \u001b[0;32mdef\u001b[0m \u001b[0m_get_server_session\u001b[0m\u001b[0;34m(\u001b[0m\u001b[0mself\u001b[0m\u001b[0;34m)\u001b[0m\u001b[0;34m:\u001b[0m\u001b[0;34m\u001b[0m\u001b[0;34m\u001b[0m\u001b[0m\n\u001b[1;32m   1583\u001b[0m         \u001b[0;34m\"\"\"Internal: start or resume a _ServerSession.\"\"\"\u001b[0m\u001b[0;34m\u001b[0m\u001b[0;34m\u001b[0m\u001b[0m\n\u001b[0;32m-> 1584\u001b[0;31m         \u001b[0;32mreturn\u001b[0m \u001b[0mself\u001b[0m\u001b[0;34m.\u001b[0m\u001b[0m_topology\u001b[0m\u001b[0;34m.\u001b[0m\u001b[0mget_server_session\u001b[0m\u001b[0;34m(\u001b[0m\u001b[0;34m)\u001b[0m\u001b[0;34m\u001b[0m\u001b[0;34m\u001b[0m\u001b[0m\n\u001b[0m\u001b[1;32m   1585\u001b[0m \u001b[0;34m\u001b[0m\u001b[0m\n\u001b[1;32m   1586\u001b[0m     \u001b[0;32mdef\u001b[0m \u001b[0m_return_server_session\u001b[0m\u001b[0;34m(\u001b[0m\u001b[0mself\u001b[0m\u001b[0;34m,\u001b[0m \u001b[0mserver_session\u001b[0m\u001b[0;34m,\u001b[0m \u001b[0mlock\u001b[0m\u001b[0;34m)\u001b[0m\u001b[0;34m:\u001b[0m\u001b[0;34m\u001b[0m\u001b[0;34m\u001b[0m\u001b[0m\n",
            "\u001b[0;32m/anaconda3/lib/python3.7/site-packages/pymongo/topology.py\u001b[0m in \u001b[0;36mget_server_session\u001b[0;34m(self)\u001b[0m\n\u001b[1;32m    427\u001b[0m                             \u001b[0many_server_selector\u001b[0m\u001b[0;34m,\u001b[0m\u001b[0;34m\u001b[0m\u001b[0;34m\u001b[0m\u001b[0m\n\u001b[1;32m    428\u001b[0m                             \u001b[0mself\u001b[0m\u001b[0;34m.\u001b[0m\u001b[0m_settings\u001b[0m\u001b[0;34m.\u001b[0m\u001b[0mserver_selection_timeout\u001b[0m\u001b[0;34m,\u001b[0m\u001b[0;34m\u001b[0m\u001b[0;34m\u001b[0m\u001b[0m\n\u001b[0;32m--> 429\u001b[0;31m                             None)\n\u001b[0m\u001b[1;32m    430\u001b[0m                 \u001b[0;32melif\u001b[0m \u001b[0;32mnot\u001b[0m \u001b[0mself\u001b[0m\u001b[0;34m.\u001b[0m\u001b[0m_description\u001b[0m\u001b[0;34m.\u001b[0m\u001b[0mreadable_servers\u001b[0m\u001b[0;34m:\u001b[0m\u001b[0;34m\u001b[0m\u001b[0;34m\u001b[0m\u001b[0m\n\u001b[1;32m    431\u001b[0m                     self._select_servers_loop(\n",
            "\u001b[0;32m/anaconda3/lib/python3.7/site-packages/pymongo/topology.py\u001b[0m in \u001b[0;36m_select_servers_loop\u001b[0;34m(self, selector, timeout, address)\u001b[0m\n\u001b[1;32m    198\u001b[0m             \u001b[0;32mif\u001b[0m \u001b[0mtimeout\u001b[0m \u001b[0;34m==\u001b[0m \u001b[0;36m0\u001b[0m \u001b[0;32mor\u001b[0m \u001b[0mnow\u001b[0m \u001b[0;34m>\u001b[0m \u001b[0mend_time\u001b[0m\u001b[0;34m:\u001b[0m\u001b[0;34m\u001b[0m\u001b[0;34m\u001b[0m\u001b[0m\n\u001b[1;32m    199\u001b[0m                 raise ServerSelectionTimeoutError(\n\u001b[0;32m--> 200\u001b[0;31m                     self._error_message(selector))\n\u001b[0m\u001b[1;32m    201\u001b[0m \u001b[0;34m\u001b[0m\u001b[0m\n\u001b[1;32m    202\u001b[0m             \u001b[0mself\u001b[0m\u001b[0;34m.\u001b[0m\u001b[0m_ensure_opened\u001b[0m\u001b[0;34m(\u001b[0m\u001b[0;34m)\u001b[0m\u001b[0;34m\u001b[0m\u001b[0;34m\u001b[0m\u001b[0m\n",
            "\u001b[0;31mServerSelectionTimeoutError\u001b[0m: localhost:27017: [Errno 61] Connection refused"
          ]
        }
      ]
    },
    {
      "cell_type": "code",
      "metadata": {
        "id": "RtubEV0SPBzc",
        "colab_type": "code",
        "outputId": "abf190c4-0b14-440f-e2b0-4c91d103a007",
        "colab": {
          "base_uri": "https://localhost:8080/",
          "height": 310
        }
      },
      "source": [
        "collection2.find_one()"
      ],
      "execution_count": 0,
      "outputs": [
        {
          "output_type": "error",
          "ename": "ServerSelectionTimeoutError",
          "evalue": "ignored",
          "traceback": [
            "\u001b[0;31m---------------------------------------------------------------------------\u001b[0m",
            "\u001b[0;31mServerSelectionTimeoutError\u001b[0m               Traceback (most recent call last)",
            "\u001b[0;32m<ipython-input-334-d9207464df24>\u001b[0m in \u001b[0;36m<module>\u001b[0;34m\u001b[0m\n\u001b[0;32m----> 1\u001b[0;31m \u001b[0mcollection2\u001b[0m\u001b[0;34m.\u001b[0m\u001b[0mfind_one\u001b[0m\u001b[0;34m(\u001b[0m\u001b[0;34m)\u001b[0m\u001b[0;34m\u001b[0m\u001b[0;34m\u001b[0m\u001b[0m\n\u001b[0m",
            "\u001b[0;32m/anaconda3/lib/python3.7/site-packages/pymongo/collection.py\u001b[0m in \u001b[0;36mfind_one\u001b[0;34m(self, filter, *args, **kwargs)\u001b[0m\n\u001b[1;32m   1267\u001b[0m \u001b[0;34m\u001b[0m\u001b[0m\n\u001b[1;32m   1268\u001b[0m         \u001b[0mcursor\u001b[0m \u001b[0;34m=\u001b[0m \u001b[0mself\u001b[0m\u001b[0;34m.\u001b[0m\u001b[0mfind\u001b[0m\u001b[0;34m(\u001b[0m\u001b[0mfilter\u001b[0m\u001b[0;34m,\u001b[0m \u001b[0;34m*\u001b[0m\u001b[0margs\u001b[0m\u001b[0;34m,\u001b[0m \u001b[0;34m**\u001b[0m\u001b[0mkwargs\u001b[0m\u001b[0;34m)\u001b[0m\u001b[0;34m\u001b[0m\u001b[0;34m\u001b[0m\u001b[0m\n\u001b[0;32m-> 1269\u001b[0;31m         \u001b[0;32mfor\u001b[0m \u001b[0mresult\u001b[0m \u001b[0;32min\u001b[0m \u001b[0mcursor\u001b[0m\u001b[0;34m.\u001b[0m\u001b[0mlimit\u001b[0m\u001b[0;34m(\u001b[0m\u001b[0;34m-\u001b[0m\u001b[0;36m1\u001b[0m\u001b[0;34m)\u001b[0m\u001b[0;34m:\u001b[0m\u001b[0;34m\u001b[0m\u001b[0;34m\u001b[0m\u001b[0m\n\u001b[0m\u001b[1;32m   1270\u001b[0m             \u001b[0;32mreturn\u001b[0m \u001b[0mresult\u001b[0m\u001b[0;34m\u001b[0m\u001b[0;34m\u001b[0m\u001b[0m\n\u001b[1;32m   1271\u001b[0m         \u001b[0;32mreturn\u001b[0m \u001b[0;32mNone\u001b[0m\u001b[0;34m\u001b[0m\u001b[0;34m\u001b[0m\u001b[0m\n",
            "\u001b[0;32m/anaconda3/lib/python3.7/site-packages/pymongo/cursor.py\u001b[0m in \u001b[0;36mnext\u001b[0;34m(self)\u001b[0m\n\u001b[1;32m   1223\u001b[0m         \u001b[0;32mif\u001b[0m \u001b[0mself\u001b[0m\u001b[0;34m.\u001b[0m\u001b[0m__empty\u001b[0m\u001b[0;34m:\u001b[0m\u001b[0;34m\u001b[0m\u001b[0;34m\u001b[0m\u001b[0m\n\u001b[1;32m   1224\u001b[0m             \u001b[0;32mraise\u001b[0m \u001b[0mStopIteration\u001b[0m\u001b[0;34m\u001b[0m\u001b[0;34m\u001b[0m\u001b[0m\n\u001b[0;32m-> 1225\u001b[0;31m         \u001b[0;32mif\u001b[0m \u001b[0mlen\u001b[0m\u001b[0;34m(\u001b[0m\u001b[0mself\u001b[0m\u001b[0;34m.\u001b[0m\u001b[0m__data\u001b[0m\u001b[0;34m)\u001b[0m \u001b[0;32mor\u001b[0m \u001b[0mself\u001b[0m\u001b[0;34m.\u001b[0m\u001b[0m_refresh\u001b[0m\u001b[0;34m(\u001b[0m\u001b[0;34m)\u001b[0m\u001b[0;34m:\u001b[0m\u001b[0;34m\u001b[0m\u001b[0;34m\u001b[0m\u001b[0m\n\u001b[0m\u001b[1;32m   1226\u001b[0m             \u001b[0;32mif\u001b[0m \u001b[0mself\u001b[0m\u001b[0;34m.\u001b[0m\u001b[0m__manipulate\u001b[0m\u001b[0;34m:\u001b[0m\u001b[0;34m\u001b[0m\u001b[0;34m\u001b[0m\u001b[0m\n\u001b[1;32m   1227\u001b[0m                 \u001b[0m_db\u001b[0m \u001b[0;34m=\u001b[0m \u001b[0mself\u001b[0m\u001b[0;34m.\u001b[0m\u001b[0m__collection\u001b[0m\u001b[0;34m.\u001b[0m\u001b[0mdatabase\u001b[0m\u001b[0;34m\u001b[0m\u001b[0;34m\u001b[0m\u001b[0m\n",
            "\u001b[0;32m/anaconda3/lib/python3.7/site-packages/pymongo/cursor.py\u001b[0m in \u001b[0;36m_refresh\u001b[0;34m(self)\u001b[0m\n\u001b[1;32m   1115\u001b[0m \u001b[0;34m\u001b[0m\u001b[0m\n\u001b[1;32m   1116\u001b[0m         \u001b[0;32mif\u001b[0m \u001b[0;32mnot\u001b[0m \u001b[0mself\u001b[0m\u001b[0;34m.\u001b[0m\u001b[0m__session\u001b[0m\u001b[0;34m:\u001b[0m\u001b[0;34m\u001b[0m\u001b[0;34m\u001b[0m\u001b[0m\n\u001b[0;32m-> 1117\u001b[0;31m             \u001b[0mself\u001b[0m\u001b[0;34m.\u001b[0m\u001b[0m__session\u001b[0m \u001b[0;34m=\u001b[0m \u001b[0mself\u001b[0m\u001b[0;34m.\u001b[0m\u001b[0m__collection\u001b[0m\u001b[0;34m.\u001b[0m\u001b[0mdatabase\u001b[0m\u001b[0;34m.\u001b[0m\u001b[0mclient\u001b[0m\u001b[0;34m.\u001b[0m\u001b[0m_ensure_session\u001b[0m\u001b[0;34m(\u001b[0m\u001b[0;34m)\u001b[0m\u001b[0;34m\u001b[0m\u001b[0;34m\u001b[0m\u001b[0m\n\u001b[0m\u001b[1;32m   1118\u001b[0m \u001b[0;34m\u001b[0m\u001b[0m\n\u001b[1;32m   1119\u001b[0m         \u001b[0;32mif\u001b[0m \u001b[0mself\u001b[0m\u001b[0;34m.\u001b[0m\u001b[0m__id\u001b[0m \u001b[0;32mis\u001b[0m \u001b[0;32mNone\u001b[0m\u001b[0;34m:\u001b[0m  \u001b[0;31m# Query\u001b[0m\u001b[0;34m\u001b[0m\u001b[0;34m\u001b[0m\u001b[0m\n",
            "\u001b[0;32m/anaconda3/lib/python3.7/site-packages/pymongo/mongo_client.py\u001b[0m in \u001b[0;36m_ensure_session\u001b[0;34m(self, session)\u001b[0m\n\u001b[1;32m   1596\u001b[0m             \u001b[0;31m# Don't make implicit sessions causally consistent. Applications\u001b[0m\u001b[0;34m\u001b[0m\u001b[0;34m\u001b[0m\u001b[0;34m\u001b[0m\u001b[0m\n\u001b[1;32m   1597\u001b[0m             \u001b[0;31m# should always opt-in.\u001b[0m\u001b[0;34m\u001b[0m\u001b[0;34m\u001b[0m\u001b[0;34m\u001b[0m\u001b[0m\n\u001b[0;32m-> 1598\u001b[0;31m             \u001b[0;32mreturn\u001b[0m \u001b[0mself\u001b[0m\u001b[0;34m.\u001b[0m\u001b[0m__start_session\u001b[0m\u001b[0;34m(\u001b[0m\u001b[0;32mTrue\u001b[0m\u001b[0;34m,\u001b[0m \u001b[0mcausal_consistency\u001b[0m\u001b[0;34m=\u001b[0m\u001b[0;32mFalse\u001b[0m\u001b[0;34m)\u001b[0m\u001b[0;34m\u001b[0m\u001b[0;34m\u001b[0m\u001b[0m\n\u001b[0m\u001b[1;32m   1599\u001b[0m         \u001b[0;32mexcept\u001b[0m \u001b[0;34m(\u001b[0m\u001b[0mConfigurationError\u001b[0m\u001b[0;34m,\u001b[0m \u001b[0mInvalidOperation\u001b[0m\u001b[0;34m)\u001b[0m\u001b[0;34m:\u001b[0m\u001b[0;34m\u001b[0m\u001b[0;34m\u001b[0m\u001b[0m\n\u001b[1;32m   1600\u001b[0m             \u001b[0;31m# Sessions not supported, or multiple users authenticated.\u001b[0m\u001b[0;34m\u001b[0m\u001b[0;34m\u001b[0m\u001b[0;34m\u001b[0m\u001b[0m\n",
            "\u001b[0;32m/anaconda3/lib/python3.7/site-packages/pymongo/mongo_client.py\u001b[0m in \u001b[0;36m__start_session\u001b[0;34m(self, implicit, **kwargs)\u001b[0m\n\u001b[1;32m   1549\u001b[0m \u001b[0;34m\u001b[0m\u001b[0m\n\u001b[1;32m   1550\u001b[0m         \u001b[0;31m# Raises ConfigurationError if sessions are not supported.\u001b[0m\u001b[0;34m\u001b[0m\u001b[0;34m\u001b[0m\u001b[0;34m\u001b[0m\u001b[0m\n\u001b[0;32m-> 1551\u001b[0;31m         \u001b[0mserver_session\u001b[0m \u001b[0;34m=\u001b[0m \u001b[0mself\u001b[0m\u001b[0;34m.\u001b[0m\u001b[0m_get_server_session\u001b[0m\u001b[0;34m(\u001b[0m\u001b[0;34m)\u001b[0m\u001b[0;34m\u001b[0m\u001b[0;34m\u001b[0m\u001b[0m\n\u001b[0m\u001b[1;32m   1552\u001b[0m         \u001b[0mopts\u001b[0m \u001b[0;34m=\u001b[0m \u001b[0mclient_session\u001b[0m\u001b[0;34m.\u001b[0m\u001b[0mSessionOptions\u001b[0m\u001b[0;34m(\u001b[0m\u001b[0;34m**\u001b[0m\u001b[0mkwargs\u001b[0m\u001b[0;34m)\u001b[0m\u001b[0;34m\u001b[0m\u001b[0;34m\u001b[0m\u001b[0m\n\u001b[1;32m   1553\u001b[0m         return client_session.ClientSession(\n",
            "\u001b[0;32m/anaconda3/lib/python3.7/site-packages/pymongo/mongo_client.py\u001b[0m in \u001b[0;36m_get_server_session\u001b[0;34m(self)\u001b[0m\n\u001b[1;32m   1582\u001b[0m     \u001b[0;32mdef\u001b[0m \u001b[0m_get_server_session\u001b[0m\u001b[0;34m(\u001b[0m\u001b[0mself\u001b[0m\u001b[0;34m)\u001b[0m\u001b[0;34m:\u001b[0m\u001b[0;34m\u001b[0m\u001b[0;34m\u001b[0m\u001b[0m\n\u001b[1;32m   1583\u001b[0m         \u001b[0;34m\"\"\"Internal: start or resume a _ServerSession.\"\"\"\u001b[0m\u001b[0;34m\u001b[0m\u001b[0;34m\u001b[0m\u001b[0m\n\u001b[0;32m-> 1584\u001b[0;31m         \u001b[0;32mreturn\u001b[0m \u001b[0mself\u001b[0m\u001b[0;34m.\u001b[0m\u001b[0m_topology\u001b[0m\u001b[0;34m.\u001b[0m\u001b[0mget_server_session\u001b[0m\u001b[0;34m(\u001b[0m\u001b[0;34m)\u001b[0m\u001b[0;34m\u001b[0m\u001b[0;34m\u001b[0m\u001b[0m\n\u001b[0m\u001b[1;32m   1585\u001b[0m \u001b[0;34m\u001b[0m\u001b[0m\n\u001b[1;32m   1586\u001b[0m     \u001b[0;32mdef\u001b[0m \u001b[0m_return_server_session\u001b[0m\u001b[0;34m(\u001b[0m\u001b[0mself\u001b[0m\u001b[0;34m,\u001b[0m \u001b[0mserver_session\u001b[0m\u001b[0;34m,\u001b[0m \u001b[0mlock\u001b[0m\u001b[0;34m)\u001b[0m\u001b[0;34m:\u001b[0m\u001b[0;34m\u001b[0m\u001b[0;34m\u001b[0m\u001b[0m\n",
            "\u001b[0;32m/anaconda3/lib/python3.7/site-packages/pymongo/topology.py\u001b[0m in \u001b[0;36mget_server_session\u001b[0;34m(self)\u001b[0m\n\u001b[1;32m    427\u001b[0m                             \u001b[0many_server_selector\u001b[0m\u001b[0;34m,\u001b[0m\u001b[0;34m\u001b[0m\u001b[0;34m\u001b[0m\u001b[0m\n\u001b[1;32m    428\u001b[0m                             \u001b[0mself\u001b[0m\u001b[0;34m.\u001b[0m\u001b[0m_settings\u001b[0m\u001b[0;34m.\u001b[0m\u001b[0mserver_selection_timeout\u001b[0m\u001b[0;34m,\u001b[0m\u001b[0;34m\u001b[0m\u001b[0;34m\u001b[0m\u001b[0m\n\u001b[0;32m--> 429\u001b[0;31m                             None)\n\u001b[0m\u001b[1;32m    430\u001b[0m                 \u001b[0;32melif\u001b[0m \u001b[0;32mnot\u001b[0m \u001b[0mself\u001b[0m\u001b[0;34m.\u001b[0m\u001b[0m_description\u001b[0m\u001b[0;34m.\u001b[0m\u001b[0mreadable_servers\u001b[0m\u001b[0;34m:\u001b[0m\u001b[0;34m\u001b[0m\u001b[0;34m\u001b[0m\u001b[0m\n\u001b[1;32m    431\u001b[0m                     self._select_servers_loop(\n",
            "\u001b[0;32m/anaconda3/lib/python3.7/site-packages/pymongo/topology.py\u001b[0m in \u001b[0;36m_select_servers_loop\u001b[0;34m(self, selector, timeout, address)\u001b[0m\n\u001b[1;32m    198\u001b[0m             \u001b[0;32mif\u001b[0m \u001b[0mtimeout\u001b[0m \u001b[0;34m==\u001b[0m \u001b[0;36m0\u001b[0m \u001b[0;32mor\u001b[0m \u001b[0mnow\u001b[0m \u001b[0;34m>\u001b[0m \u001b[0mend_time\u001b[0m\u001b[0;34m:\u001b[0m\u001b[0;34m\u001b[0m\u001b[0;34m\u001b[0m\u001b[0m\n\u001b[1;32m    199\u001b[0m                 raise ServerSelectionTimeoutError(\n\u001b[0;32m--> 200\u001b[0;31m                     self._error_message(selector))\n\u001b[0m\u001b[1;32m    201\u001b[0m \u001b[0;34m\u001b[0m\u001b[0m\n\u001b[1;32m    202\u001b[0m             \u001b[0mself\u001b[0m\u001b[0;34m.\u001b[0m\u001b[0m_ensure_opened\u001b[0m\u001b[0;34m(\u001b[0m\u001b[0;34m)\u001b[0m\u001b[0;34m\u001b[0m\u001b[0;34m\u001b[0m\u001b[0m\n",
            "\u001b[0;31mServerSelectionTimeoutError\u001b[0m: localhost:27017: [Errno 61] Connection refused"
          ]
        }
      ]
    },
    {
      "cell_type": "code",
      "metadata": {
        "id": "tNscYaEvPFAl",
        "colab_type": "code",
        "outputId": "34d4583c-1cc6-4e1c-f214-613db1c8a957",
        "colab": {
          "base_uri": "https://localhost:8080/",
          "height": 362
        }
      },
      "source": [
        "tweets_iterator = collection2.find()\n",
        "\n",
        "for tweet in tweets_iterator:\n",
        "    print (tweet['text'])"
      ],
      "execution_count": 0,
      "outputs": [
        {
          "output_type": "error",
          "ename": "KeyboardInterrupt",
          "evalue": "ignored",
          "traceback": [
            "\u001b[0;31m---------------------------------------------------------------------------\u001b[0m",
            "\u001b[0;31mKeyboardInterrupt\u001b[0m                         Traceback (most recent call last)",
            "\u001b[0;32m<ipython-input-337-b62a71a24c3d>\u001b[0m in \u001b[0;36m<module>\u001b[0;34m\u001b[0m\n\u001b[1;32m      1\u001b[0m \u001b[0mtweets_iterator\u001b[0m \u001b[0;34m=\u001b[0m \u001b[0mcollection2\u001b[0m\u001b[0;34m.\u001b[0m\u001b[0mfind\u001b[0m\u001b[0;34m(\u001b[0m\u001b[0;34m)\u001b[0m\u001b[0;34m\u001b[0m\u001b[0;34m\u001b[0m\u001b[0m\n\u001b[1;32m      2\u001b[0m \u001b[0;34m\u001b[0m\u001b[0m\n\u001b[0;32m----> 3\u001b[0;31m \u001b[0;32mfor\u001b[0m \u001b[0mtweet\u001b[0m \u001b[0;32min\u001b[0m \u001b[0mtweets_iterator\u001b[0m\u001b[0;34m:\u001b[0m\u001b[0;34m\u001b[0m\u001b[0;34m\u001b[0m\u001b[0m\n\u001b[0m\u001b[1;32m      4\u001b[0m     \u001b[0mprint\u001b[0m \u001b[0;34m(\u001b[0m\u001b[0mtweet\u001b[0m\u001b[0;34m[\u001b[0m\u001b[0;34m'text'\u001b[0m\u001b[0;34m]\u001b[0m\u001b[0;34m)\u001b[0m\u001b[0;34m\u001b[0m\u001b[0;34m\u001b[0m\u001b[0m\n",
            "\u001b[0;32m/anaconda3/lib/python3.7/site-packages/pymongo/cursor.py\u001b[0m in \u001b[0;36mnext\u001b[0;34m(self)\u001b[0m\n\u001b[1;32m   1223\u001b[0m         \u001b[0;32mif\u001b[0m \u001b[0mself\u001b[0m\u001b[0;34m.\u001b[0m\u001b[0m__empty\u001b[0m\u001b[0;34m:\u001b[0m\u001b[0;34m\u001b[0m\u001b[0;34m\u001b[0m\u001b[0m\n\u001b[1;32m   1224\u001b[0m             \u001b[0;32mraise\u001b[0m \u001b[0mStopIteration\u001b[0m\u001b[0;34m\u001b[0m\u001b[0;34m\u001b[0m\u001b[0m\n\u001b[0;32m-> 1225\u001b[0;31m         \u001b[0;32mif\u001b[0m \u001b[0mlen\u001b[0m\u001b[0;34m(\u001b[0m\u001b[0mself\u001b[0m\u001b[0;34m.\u001b[0m\u001b[0m__data\u001b[0m\u001b[0;34m)\u001b[0m \u001b[0;32mor\u001b[0m \u001b[0mself\u001b[0m\u001b[0;34m.\u001b[0m\u001b[0m_refresh\u001b[0m\u001b[0;34m(\u001b[0m\u001b[0;34m)\u001b[0m\u001b[0;34m:\u001b[0m\u001b[0;34m\u001b[0m\u001b[0;34m\u001b[0m\u001b[0m\n\u001b[0m\u001b[1;32m   1226\u001b[0m             \u001b[0;32mif\u001b[0m \u001b[0mself\u001b[0m\u001b[0;34m.\u001b[0m\u001b[0m__manipulate\u001b[0m\u001b[0;34m:\u001b[0m\u001b[0;34m\u001b[0m\u001b[0;34m\u001b[0m\u001b[0m\n\u001b[1;32m   1227\u001b[0m                 \u001b[0m_db\u001b[0m \u001b[0;34m=\u001b[0m \u001b[0mself\u001b[0m\u001b[0;34m.\u001b[0m\u001b[0m__collection\u001b[0m\u001b[0;34m.\u001b[0m\u001b[0mdatabase\u001b[0m\u001b[0;34m\u001b[0m\u001b[0;34m\u001b[0m\u001b[0m\n",
            "\u001b[0;32m/anaconda3/lib/python3.7/site-packages/pymongo/cursor.py\u001b[0m in \u001b[0;36m_refresh\u001b[0;34m(self)\u001b[0m\n\u001b[1;32m   1115\u001b[0m \u001b[0;34m\u001b[0m\u001b[0m\n\u001b[1;32m   1116\u001b[0m         \u001b[0;32mif\u001b[0m \u001b[0;32mnot\u001b[0m \u001b[0mself\u001b[0m\u001b[0;34m.\u001b[0m\u001b[0m__session\u001b[0m\u001b[0;34m:\u001b[0m\u001b[0;34m\u001b[0m\u001b[0;34m\u001b[0m\u001b[0m\n\u001b[0;32m-> 1117\u001b[0;31m             \u001b[0mself\u001b[0m\u001b[0;34m.\u001b[0m\u001b[0m__session\u001b[0m \u001b[0;34m=\u001b[0m \u001b[0mself\u001b[0m\u001b[0;34m.\u001b[0m\u001b[0m__collection\u001b[0m\u001b[0;34m.\u001b[0m\u001b[0mdatabase\u001b[0m\u001b[0;34m.\u001b[0m\u001b[0mclient\u001b[0m\u001b[0;34m.\u001b[0m\u001b[0m_ensure_session\u001b[0m\u001b[0;34m(\u001b[0m\u001b[0;34m)\u001b[0m\u001b[0;34m\u001b[0m\u001b[0;34m\u001b[0m\u001b[0m\n\u001b[0m\u001b[1;32m   1118\u001b[0m \u001b[0;34m\u001b[0m\u001b[0m\n\u001b[1;32m   1119\u001b[0m         \u001b[0;32mif\u001b[0m \u001b[0mself\u001b[0m\u001b[0;34m.\u001b[0m\u001b[0m__id\u001b[0m \u001b[0;32mis\u001b[0m \u001b[0;32mNone\u001b[0m\u001b[0;34m:\u001b[0m  \u001b[0;31m# Query\u001b[0m\u001b[0;34m\u001b[0m\u001b[0;34m\u001b[0m\u001b[0m\n",
            "\u001b[0;32m/anaconda3/lib/python3.7/site-packages/pymongo/mongo_client.py\u001b[0m in \u001b[0;36m_ensure_session\u001b[0;34m(self, session)\u001b[0m\n\u001b[1;32m   1596\u001b[0m             \u001b[0;31m# Don't make implicit sessions causally consistent. Applications\u001b[0m\u001b[0;34m\u001b[0m\u001b[0;34m\u001b[0m\u001b[0;34m\u001b[0m\u001b[0m\n\u001b[1;32m   1597\u001b[0m             \u001b[0;31m# should always opt-in.\u001b[0m\u001b[0;34m\u001b[0m\u001b[0;34m\u001b[0m\u001b[0;34m\u001b[0m\u001b[0m\n\u001b[0;32m-> 1598\u001b[0;31m             \u001b[0;32mreturn\u001b[0m \u001b[0mself\u001b[0m\u001b[0;34m.\u001b[0m\u001b[0m__start_session\u001b[0m\u001b[0;34m(\u001b[0m\u001b[0;32mTrue\u001b[0m\u001b[0;34m,\u001b[0m \u001b[0mcausal_consistency\u001b[0m\u001b[0;34m=\u001b[0m\u001b[0;32mFalse\u001b[0m\u001b[0;34m)\u001b[0m\u001b[0;34m\u001b[0m\u001b[0;34m\u001b[0m\u001b[0m\n\u001b[0m\u001b[1;32m   1599\u001b[0m         \u001b[0;32mexcept\u001b[0m \u001b[0;34m(\u001b[0m\u001b[0mConfigurationError\u001b[0m\u001b[0;34m,\u001b[0m \u001b[0mInvalidOperation\u001b[0m\u001b[0;34m)\u001b[0m\u001b[0;34m:\u001b[0m\u001b[0;34m\u001b[0m\u001b[0;34m\u001b[0m\u001b[0m\n\u001b[1;32m   1600\u001b[0m             \u001b[0;31m# Sessions not supported, or multiple users authenticated.\u001b[0m\u001b[0;34m\u001b[0m\u001b[0;34m\u001b[0m\u001b[0;34m\u001b[0m\u001b[0m\n",
            "\u001b[0;32m/anaconda3/lib/python3.7/site-packages/pymongo/mongo_client.py\u001b[0m in \u001b[0;36m__start_session\u001b[0;34m(self, implicit, **kwargs)\u001b[0m\n\u001b[1;32m   1549\u001b[0m \u001b[0;34m\u001b[0m\u001b[0m\n\u001b[1;32m   1550\u001b[0m         \u001b[0;31m# Raises ConfigurationError if sessions are not supported.\u001b[0m\u001b[0;34m\u001b[0m\u001b[0;34m\u001b[0m\u001b[0;34m\u001b[0m\u001b[0m\n\u001b[0;32m-> 1551\u001b[0;31m         \u001b[0mserver_session\u001b[0m \u001b[0;34m=\u001b[0m \u001b[0mself\u001b[0m\u001b[0;34m.\u001b[0m\u001b[0m_get_server_session\u001b[0m\u001b[0;34m(\u001b[0m\u001b[0;34m)\u001b[0m\u001b[0;34m\u001b[0m\u001b[0;34m\u001b[0m\u001b[0m\n\u001b[0m\u001b[1;32m   1552\u001b[0m         \u001b[0mopts\u001b[0m \u001b[0;34m=\u001b[0m \u001b[0mclient_session\u001b[0m\u001b[0;34m.\u001b[0m\u001b[0mSessionOptions\u001b[0m\u001b[0;34m(\u001b[0m\u001b[0;34m**\u001b[0m\u001b[0mkwargs\u001b[0m\u001b[0;34m)\u001b[0m\u001b[0;34m\u001b[0m\u001b[0;34m\u001b[0m\u001b[0m\n\u001b[1;32m   1553\u001b[0m         return client_session.ClientSession(\n",
            "\u001b[0;32m/anaconda3/lib/python3.7/site-packages/pymongo/mongo_client.py\u001b[0m in \u001b[0;36m_get_server_session\u001b[0;34m(self)\u001b[0m\n\u001b[1;32m   1582\u001b[0m     \u001b[0;32mdef\u001b[0m \u001b[0m_get_server_session\u001b[0m\u001b[0;34m(\u001b[0m\u001b[0mself\u001b[0m\u001b[0;34m)\u001b[0m\u001b[0;34m:\u001b[0m\u001b[0;34m\u001b[0m\u001b[0;34m\u001b[0m\u001b[0m\n\u001b[1;32m   1583\u001b[0m         \u001b[0;34m\"\"\"Internal: start or resume a _ServerSession.\"\"\"\u001b[0m\u001b[0;34m\u001b[0m\u001b[0;34m\u001b[0m\u001b[0m\n\u001b[0;32m-> 1584\u001b[0;31m         \u001b[0;32mreturn\u001b[0m \u001b[0mself\u001b[0m\u001b[0;34m.\u001b[0m\u001b[0m_topology\u001b[0m\u001b[0;34m.\u001b[0m\u001b[0mget_server_session\u001b[0m\u001b[0;34m(\u001b[0m\u001b[0;34m)\u001b[0m\u001b[0;34m\u001b[0m\u001b[0;34m\u001b[0m\u001b[0m\n\u001b[0m\u001b[1;32m   1585\u001b[0m \u001b[0;34m\u001b[0m\u001b[0m\n\u001b[1;32m   1586\u001b[0m     \u001b[0;32mdef\u001b[0m \u001b[0m_return_server_session\u001b[0m\u001b[0;34m(\u001b[0m\u001b[0mself\u001b[0m\u001b[0;34m,\u001b[0m \u001b[0mserver_session\u001b[0m\u001b[0;34m,\u001b[0m \u001b[0mlock\u001b[0m\u001b[0;34m)\u001b[0m\u001b[0;34m:\u001b[0m\u001b[0;34m\u001b[0m\u001b[0;34m\u001b[0m\u001b[0m\n",
            "\u001b[0;32m/anaconda3/lib/python3.7/site-packages/pymongo/topology.py\u001b[0m in \u001b[0;36mget_server_session\u001b[0;34m(self)\u001b[0m\n\u001b[1;32m    427\u001b[0m                             \u001b[0many_server_selector\u001b[0m\u001b[0;34m,\u001b[0m\u001b[0;34m\u001b[0m\u001b[0;34m\u001b[0m\u001b[0m\n\u001b[1;32m    428\u001b[0m                             \u001b[0mself\u001b[0m\u001b[0;34m.\u001b[0m\u001b[0m_settings\u001b[0m\u001b[0;34m.\u001b[0m\u001b[0mserver_selection_timeout\u001b[0m\u001b[0;34m,\u001b[0m\u001b[0;34m\u001b[0m\u001b[0;34m\u001b[0m\u001b[0m\n\u001b[0;32m--> 429\u001b[0;31m                             None)\n\u001b[0m\u001b[1;32m    430\u001b[0m                 \u001b[0;32melif\u001b[0m \u001b[0;32mnot\u001b[0m \u001b[0mself\u001b[0m\u001b[0;34m.\u001b[0m\u001b[0m_description\u001b[0m\u001b[0;34m.\u001b[0m\u001b[0mreadable_servers\u001b[0m\u001b[0;34m:\u001b[0m\u001b[0;34m\u001b[0m\u001b[0;34m\u001b[0m\u001b[0m\n\u001b[1;32m    431\u001b[0m                     self._select_servers_loop(\n",
            "\u001b[0;32m/anaconda3/lib/python3.7/site-packages/pymongo/topology.py\u001b[0m in \u001b[0;36m_select_servers_loop\u001b[0;34m(self, selector, timeout, address)\u001b[0m\n\u001b[1;32m    207\u001b[0m             \u001b[0;31m# came after our most recent apply_selector call, since we've\u001b[0m\u001b[0;34m\u001b[0m\u001b[0;34m\u001b[0m\u001b[0;34m\u001b[0m\u001b[0m\n\u001b[1;32m    208\u001b[0m             \u001b[0;31m# held the lock until now.\u001b[0m\u001b[0;34m\u001b[0m\u001b[0;34m\u001b[0m\u001b[0;34m\u001b[0m\u001b[0m\n\u001b[0;32m--> 209\u001b[0;31m             \u001b[0mself\u001b[0m\u001b[0;34m.\u001b[0m\u001b[0m_condition\u001b[0m\u001b[0;34m.\u001b[0m\u001b[0mwait\u001b[0m\u001b[0;34m(\u001b[0m\u001b[0mcommon\u001b[0m\u001b[0;34m.\u001b[0m\u001b[0mMIN_HEARTBEAT_INTERVAL\u001b[0m\u001b[0;34m)\u001b[0m\u001b[0;34m\u001b[0m\u001b[0;34m\u001b[0m\u001b[0m\n\u001b[0m\u001b[1;32m    210\u001b[0m             \u001b[0mself\u001b[0m\u001b[0;34m.\u001b[0m\u001b[0m_description\u001b[0m\u001b[0;34m.\u001b[0m\u001b[0mcheck_compatible\u001b[0m\u001b[0;34m(\u001b[0m\u001b[0;34m)\u001b[0m\u001b[0;34m\u001b[0m\u001b[0;34m\u001b[0m\u001b[0m\n\u001b[1;32m    211\u001b[0m             \u001b[0mnow\u001b[0m \u001b[0;34m=\u001b[0m \u001b[0m_time\u001b[0m\u001b[0;34m(\u001b[0m\u001b[0;34m)\u001b[0m\u001b[0;34m\u001b[0m\u001b[0;34m\u001b[0m\u001b[0m\n",
            "\u001b[0;32m/anaconda3/lib/python3.7/threading.py\u001b[0m in \u001b[0;36mwait\u001b[0;34m(self, timeout)\u001b[0m\n\u001b[1;32m    298\u001b[0m             \u001b[0;32melse\u001b[0m\u001b[0;34m:\u001b[0m\u001b[0;34m\u001b[0m\u001b[0;34m\u001b[0m\u001b[0m\n\u001b[1;32m    299\u001b[0m                 \u001b[0;32mif\u001b[0m \u001b[0mtimeout\u001b[0m \u001b[0;34m>\u001b[0m \u001b[0;36m0\u001b[0m\u001b[0;34m:\u001b[0m\u001b[0;34m\u001b[0m\u001b[0;34m\u001b[0m\u001b[0m\n\u001b[0;32m--> 300\u001b[0;31m                     \u001b[0mgotit\u001b[0m \u001b[0;34m=\u001b[0m \u001b[0mwaiter\u001b[0m\u001b[0;34m.\u001b[0m\u001b[0macquire\u001b[0m\u001b[0;34m(\u001b[0m\u001b[0;32mTrue\u001b[0m\u001b[0;34m,\u001b[0m \u001b[0mtimeout\u001b[0m\u001b[0;34m)\u001b[0m\u001b[0;34m\u001b[0m\u001b[0;34m\u001b[0m\u001b[0m\n\u001b[0m\u001b[1;32m    301\u001b[0m                 \u001b[0;32melse\u001b[0m\u001b[0;34m:\u001b[0m\u001b[0;34m\u001b[0m\u001b[0;34m\u001b[0m\u001b[0m\n\u001b[1;32m    302\u001b[0m                     \u001b[0mgotit\u001b[0m \u001b[0;34m=\u001b[0m \u001b[0mwaiter\u001b[0m\u001b[0;34m.\u001b[0m\u001b[0macquire\u001b[0m\u001b[0;34m(\u001b[0m\u001b[0;32mFalse\u001b[0m\u001b[0;34m)\u001b[0m\u001b[0;34m\u001b[0m\u001b[0;34m\u001b[0m\u001b[0m\n",
            "\u001b[0;31mKeyboardInterrupt\u001b[0m: "
          ]
        }
      ]
    },
    {
      "cell_type": "code",
      "metadata": {
        "id": "EzwX9K-GPKu6",
        "colab_type": "code",
        "colab": {}
      },
      "source": [
        "results = collection2.find({'location':'Los Angeles'})"
      ],
      "execution_count": 0,
      "outputs": []
    },
    {
      "cell_type": "code",
      "metadata": {
        "id": "rLDhMA-vPNQz",
        "colab_type": "code",
        "colab": {}
      },
      "source": [
        "for result in results:\n",
        "    print(result)"
      ],
      "execution_count": 0,
      "outputs": []
    },
    {
      "cell_type": "code",
      "metadata": {
        "id": "MOyfX2H7PPgm",
        "colab_type": "code",
        "colab": {}
      },
      "source": [
        "#Create a dataframe with pandas that includes all tweets from this query\n",
        "import pandas as pd\n",
        "tweetsdf = pd.DataFrame(list(collection2.find()))"
      ],
      "execution_count": 0,
      "outputs": []
    },
    {
      "cell_type": "code",
      "metadata": {
        "id": "Y2c-21B3PRiJ",
        "colab_type": "code",
        "colab": {}
      },
      "source": [
        "tweetsdf.head()"
      ],
      "execution_count": 0,
      "outputs": []
    },
    {
      "cell_type": "code",
      "metadata": {
        "id": "ZXskSmg_PURl",
        "colab_type": "code",
        "colab": {}
      },
      "source": [
        "#Export the tweetsdf data frame to Excel\n",
        "tweetsdf.to_excel(\"output.xlsx\")"
      ],
      "execution_count": 0,
      "outputs": []
    },
    {
      "cell_type": "code",
      "metadata": {
        "id": "B2FWk1VZPXEA",
        "colab_type": "code",
        "colab": {}
      },
      "source": [
        "#Query MongoDB for only those tweets with the word crash in the text\n",
        "from bson.regex import Regex\n",
        "from pymongo import MongoClient\n",
        "\n",
        "query = {\n",
        "    \"text\": Regex(\"latraffic\",\"i\")\n",
        "}\n",
        "sort = [(\"ID\",-1)]\n",
        "x=0\n",
        "\n",
        "cursor = collection2.find(query,sort=sort,limit=100)\n",
        "try:\n",
        "    for doc in cursor:\n",
        "        print (doc[\"text\"])\n",
        "        x=x+1\n",
        "finally:\n",
        "    cursor.close()\n",
        "    print(x)"
      ],
      "execution_count": 0,
      "outputs": []
    },
    {
      "cell_type": "code",
      "metadata": {
        "id": "CN63ueskPboV",
        "colab_type": "code",
        "colab": {}
      },
      "source": [
        "#client = MongoClient('localhost', 27017)\n",
        "#db = client['twitterdb2']\n",
        "#collection = db['twitter_search']\n",
        "tweets_iterator = collection2.find()\n",
        "\n",
        "mymap = folium.Map(location=[34.05, -118.4], zoom_start=10)\n",
        "i = 0\n",
        "for tweet in tweets_iterator:\n",
        "    # this code was designed to be able to reduce tweets if needed\n",
        "    # 0 is used to return all tweets now since the number is small\n",
        "    if  tweet['coordinates']: #i % 1 == 2 and\n",
        "        folium.CircleMarker(location=list(reversed(tweet['coordinates']['coordinates'])), radius=2).add_to(mymap)\n",
        "        i +=1\n",
        "mymap.save('map.html')\n",
        "display(mymap)"
      ],
      "execution_count": 0,
      "outputs": []
    }
  ]
}